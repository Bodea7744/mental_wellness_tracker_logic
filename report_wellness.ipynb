{
 "cells": [
  {
   "cell_type": "markdown",
   "id": "3fa00c6f",
   "metadata": {},
   "source": [
    "# **🧠 Mental Wellness Analysis – Visualization, Interactivity & Strategic Insights**\n",
    "### **✒️ Author: Bodea Marian-Daniel**\n",
    "\n",
    "### **🎯 Analysis Objective**\n",
    "\n",
    "– Highlighting `major trends` in emotional and behavioral patterns over time\n",
    "\n",
    "– Exploring relationships between `stress`, `sleep`, `exercise`, and `mood`\n",
    "\n",
    "– Enabling the product and strategy teams to explore the data independently `through interactive visuals`\n",
    "\n",
    "– `Providing clear recommendations` for developing a mental wellness app"
   ]
  },
  {
   "cell_type": "markdown",
   "id": "c161b158",
   "metadata": {},
   "source": [
    "## **📂 Step 1: Importing and Loading Libraries for Sample Data Display**\n",
    "\n",
    "We will import the `pandas` library to load the dataset, along with libraries such as `plotly` to create charts."
   ]
  },
  {
   "cell_type": "code",
   "execution_count": null,
   "id": "7160d644",
   "metadata": {},
   "outputs": [
    {
     "data": {
      "text/html": [
       "<div>\n",
       "<style scoped>\n",
       "    .dataframe tbody tr th:only-of-type {\n",
       "        vertical-align: middle;\n",
       "    }\n",
       "\n",
       "    .dataframe tbody tr th {\n",
       "        vertical-align: top;\n",
       "    }\n",
       "\n",
       "    .dataframe thead th {\n",
       "        text-align: right;\n",
       "    }\n",
       "</style>\n",
       "<table border=\"1\" class=\"dataframe\">\n",
       "  <thead>\n",
       "    <tr style=\"text-align: right;\">\n",
       "      <th></th>\n",
       "      <th>Date</th>\n",
       "      <th>Mood Score</th>\n",
       "      <th>Sleep Hours</th>\n",
       "      <th>Exercise (min)</th>\n",
       "      <th>Social Interactions</th>\n",
       "      <th>Stress Level</th>\n",
       "      <th>Category</th>\n",
       "      <th>Type</th>\n",
       "      <th>Notes</th>\n",
       "    </tr>\n",
       "  </thead>\n",
       "  <tbody>\n",
       "    <tr>\n",
       "      <th>0</th>\n",
       "      <td>2020-11-14</td>\n",
       "      <td>4</td>\n",
       "      <td>4.8</td>\n",
       "      <td>14</td>\n",
       "      <td>1</td>\n",
       "      <td>8</td>\n",
       "      <td>Recovery</td>\n",
       "      <td>Weekend</td>\n",
       "      <td>Busy day</td>\n",
       "    </tr>\n",
       "    <tr>\n",
       "      <th>1</th>\n",
       "      <td>2022-03-29</td>\n",
       "      <td>10</td>\n",
       "      <td>5.8</td>\n",
       "      <td>44</td>\n",
       "      <td>0</td>\n",
       "      <td>6</td>\n",
       "      <td>Peak</td>\n",
       "      <td>Sick Day</td>\n",
       "      <td>Distracted</td>\n",
       "    </tr>\n",
       "    <tr>\n",
       "      <th>2</th>\n",
       "      <td>2025-05-21</td>\n",
       "      <td>8</td>\n",
       "      <td>6.5</td>\n",
       "      <td>40</td>\n",
       "      <td>4</td>\n",
       "      <td>9</td>\n",
       "      <td>Low</td>\n",
       "      <td>Sick Day</td>\n",
       "      <td>Focused</td>\n",
       "    </tr>\n",
       "    <tr>\n",
       "      <th>3</th>\n",
       "      <td>2022-12-02</td>\n",
       "      <td>7</td>\n",
       "      <td>7.3</td>\n",
       "      <td>7</td>\n",
       "      <td>3</td>\n",
       "      <td>5</td>\n",
       "      <td>Recovery</td>\n",
       "      <td>Sick Day</td>\n",
       "      <td>Great mood</td>\n",
       "    </tr>\n",
       "    <tr>\n",
       "      <th>4</th>\n",
       "      <td>2020-10-16</td>\n",
       "      <td>7</td>\n",
       "      <td>9.0</td>\n",
       "      <td>36</td>\n",
       "      <td>3</td>\n",
       "      <td>7</td>\n",
       "      <td>Routine</td>\n",
       "      <td>Holiday</td>\n",
       "      <td>Felt productive</td>\n",
       "    </tr>\n",
       "  </tbody>\n",
       "</table>\n",
       "</div>"
      ],
      "text/plain": [
       "         Date  Mood Score  Sleep Hours  Exercise (min)  Social Interactions  \\\n",
       "0  2020-11-14           4          4.8              14                    1   \n",
       "1  2022-03-29          10          5.8              44                    0   \n",
       "2  2025-05-21           8          6.5              40                    4   \n",
       "3  2022-12-02           7          7.3               7                    3   \n",
       "4  2020-10-16           7          9.0              36                    3   \n",
       "\n",
       "   Stress Level  Category      Type            Notes  \n",
       "0             8  Recovery   Weekend         Busy day  \n",
       "1             6      Peak  Sick Day       Distracted  \n",
       "2             9       Low  Sick Day          Focused  \n",
       "3             5  Recovery  Sick Day       Great mood  \n",
       "4             7   Routine   Holiday  Felt productive  "
      ]
     },
     "execution_count": 370,
     "metadata": {},
     "output_type": "execute_result"
    }
   ],
   "source": [
    "import pandas as pd                                 # Imports the pandas library for data manipulation and analysis\n",
    "import plotly.express as px                         # Imports Plotly Express for creating interactive visualizations\n",
    "import plotly.offline as pyo                        # Modul offline pentru afișare în notebook\n",
    "pyo.init_notebook_mode(connected=True)              # Activează modul offline Plotly\n",
    "\n",
    "df = pd.read_csv(\"mental_wellness_multi_year.csv\")  # Loads the dataset from the CSV file into a DataFrame\n",
    "df.head()                                           # Displays the first 5 rows of the DataFrame for a quick overview of the data structure"
   ]
  },
  {
   "cell_type": "markdown",
   "id": "1a33fcae",
   "metadata": {},
   "source": [
    "### 📌 **Observation**\n",
    "\n",
    "The dataset contains 9 columns, named:\n",
    "\n",
    "`Date`, `Mood Score`, `Sleep Hours`, `Exercise (min)`, `Social Interactions`, `Stress Level`, `Category`, `Type`, `Notes`.\n",
    "\n",
    "These columns will be used to formulate conclusions and insights throughout the mental wellness analysis."
   ]
  },
  {
   "cell_type": "markdown",
   "id": "0a3aee6a",
   "metadata": {},
   "source": [
    "## **📊 Step 2: Overview of Temporal Distribution**\n",
    "\n",
    "In this step, we will explore the overall structure of the dataset by analyzing the `distribution of entries across years`.\n",
    "\n",
    "This will help us understand how the data is spread over time.\n"
   ]
  },
  {
   "cell_type": "code",
   "execution_count": 371,
   "id": "5b85e51c",
   "metadata": {},
   "outputs": [
    {
     "name": "stdout",
     "output_type": "stream",
     "text": [
      "Histogram:\n"
     ]
    },
    {
     "data": {
      "application/vnd.plotly.v1+json": {
       "config": {
        "plotlyServerURL": "https://plot.ly"
       },
       "data": [
        {
         "bingroup": "x",
         "hovertemplate": "Year=%{x}<br>count=%{y}<extra></extra>",
         "legendgroup": "",
         "marker": {
          "color": "#636efa",
          "pattern": {
           "shape": ""
          }
         },
         "name": "",
         "orientation": "v",
         "showlegend": false,
         "type": "histogram",
         "x": {
          "bdata": "5AcAAOYHAADpBwAA5gcAAOQHAADgBwAA4AcAAOIHAADiBwAA5gcAAOEHAADjBwAA5QcAAOIHAADjBwAA4gcAAOQHAADiBwAA4gcAAOgHAADmBwAA6QcAAOAHAADlBwAA5AcAAOUHAADiBwAA6AcAAOMHAADiBwAA5gcAAOkHAADoBwAA4AcAAOcHAADpBwAA5AcAAOMHAADjBwAA4wcAAOIHAADlBwAA4gcAAOEHAADlBwAA4wcAAOAHAADjBwAA5wcAAOQHAADpBwAA4AcAAOIHAADmBwAA6QcAAOcHAADpBwAA6AcAAOIHAADpBwAA4gcAAOYHAADnBwAA5wcAAOgHAADnBwAA6QcAAOcHAADmBwAA4QcAAOAHAADnBwAA4wcAAOcHAADjBwAA5gcAAOcHAADpBwAA4gcAAOgHAADhBwAA4gcAAOUHAADkBwAA6QcAAOYHAADkBwAA5wcAAOcHAADoBwAA4QcAAOMHAADgBwAA4wcAAOIHAADiBwAA5AcAAOUHAADoBwAA5AcAAA==",
          "dtype": "i4"
         },
         "xaxis": "x",
         "yaxis": "y"
        }
       ],
       "layout": {
        "bargap": 0.5,
        "barmode": "relative",
        "legend": {
         "tracegroupgap": 0
        },
        "template": {
         "data": {
          "bar": [
           {
            "error_x": {
             "color": "#2a3f5f"
            },
            "error_y": {
             "color": "#2a3f5f"
            },
            "marker": {
             "line": {
              "color": "#E5ECF6",
              "width": 0.5
             },
             "pattern": {
              "fillmode": "overlay",
              "size": 10,
              "solidity": 0.2
             }
            },
            "type": "bar"
           }
          ],
          "barpolar": [
           {
            "marker": {
             "line": {
              "color": "#E5ECF6",
              "width": 0.5
             },
             "pattern": {
              "fillmode": "overlay",
              "size": 10,
              "solidity": 0.2
             }
            },
            "type": "barpolar"
           }
          ],
          "carpet": [
           {
            "aaxis": {
             "endlinecolor": "#2a3f5f",
             "gridcolor": "white",
             "linecolor": "white",
             "minorgridcolor": "white",
             "startlinecolor": "#2a3f5f"
            },
            "baxis": {
             "endlinecolor": "#2a3f5f",
             "gridcolor": "white",
             "linecolor": "white",
             "minorgridcolor": "white",
             "startlinecolor": "#2a3f5f"
            },
            "type": "carpet"
           }
          ],
          "choropleth": [
           {
            "colorbar": {
             "outlinewidth": 0,
             "ticks": ""
            },
            "type": "choropleth"
           }
          ],
          "contour": [
           {
            "colorbar": {
             "outlinewidth": 0,
             "ticks": ""
            },
            "colorscale": [
             [
              0,
              "#0d0887"
             ],
             [
              0.1111111111111111,
              "#46039f"
             ],
             [
              0.2222222222222222,
              "#7201a8"
             ],
             [
              0.3333333333333333,
              "#9c179e"
             ],
             [
              0.4444444444444444,
              "#bd3786"
             ],
             [
              0.5555555555555556,
              "#d8576b"
             ],
             [
              0.6666666666666666,
              "#ed7953"
             ],
             [
              0.7777777777777778,
              "#fb9f3a"
             ],
             [
              0.8888888888888888,
              "#fdca26"
             ],
             [
              1,
              "#f0f921"
             ]
            ],
            "type": "contour"
           }
          ],
          "contourcarpet": [
           {
            "colorbar": {
             "outlinewidth": 0,
             "ticks": ""
            },
            "type": "contourcarpet"
           }
          ],
          "heatmap": [
           {
            "colorbar": {
             "outlinewidth": 0,
             "ticks": ""
            },
            "colorscale": [
             [
              0,
              "#0d0887"
             ],
             [
              0.1111111111111111,
              "#46039f"
             ],
             [
              0.2222222222222222,
              "#7201a8"
             ],
             [
              0.3333333333333333,
              "#9c179e"
             ],
             [
              0.4444444444444444,
              "#bd3786"
             ],
             [
              0.5555555555555556,
              "#d8576b"
             ],
             [
              0.6666666666666666,
              "#ed7953"
             ],
             [
              0.7777777777777778,
              "#fb9f3a"
             ],
             [
              0.8888888888888888,
              "#fdca26"
             ],
             [
              1,
              "#f0f921"
             ]
            ],
            "type": "heatmap"
           }
          ],
          "histogram": [
           {
            "marker": {
             "pattern": {
              "fillmode": "overlay",
              "size": 10,
              "solidity": 0.2
             }
            },
            "type": "histogram"
           }
          ],
          "histogram2d": [
           {
            "colorbar": {
             "outlinewidth": 0,
             "ticks": ""
            },
            "colorscale": [
             [
              0,
              "#0d0887"
             ],
             [
              0.1111111111111111,
              "#46039f"
             ],
             [
              0.2222222222222222,
              "#7201a8"
             ],
             [
              0.3333333333333333,
              "#9c179e"
             ],
             [
              0.4444444444444444,
              "#bd3786"
             ],
             [
              0.5555555555555556,
              "#d8576b"
             ],
             [
              0.6666666666666666,
              "#ed7953"
             ],
             [
              0.7777777777777778,
              "#fb9f3a"
             ],
             [
              0.8888888888888888,
              "#fdca26"
             ],
             [
              1,
              "#f0f921"
             ]
            ],
            "type": "histogram2d"
           }
          ],
          "histogram2dcontour": [
           {
            "colorbar": {
             "outlinewidth": 0,
             "ticks": ""
            },
            "colorscale": [
             [
              0,
              "#0d0887"
             ],
             [
              0.1111111111111111,
              "#46039f"
             ],
             [
              0.2222222222222222,
              "#7201a8"
             ],
             [
              0.3333333333333333,
              "#9c179e"
             ],
             [
              0.4444444444444444,
              "#bd3786"
             ],
             [
              0.5555555555555556,
              "#d8576b"
             ],
             [
              0.6666666666666666,
              "#ed7953"
             ],
             [
              0.7777777777777778,
              "#fb9f3a"
             ],
             [
              0.8888888888888888,
              "#fdca26"
             ],
             [
              1,
              "#f0f921"
             ]
            ],
            "type": "histogram2dcontour"
           }
          ],
          "mesh3d": [
           {
            "colorbar": {
             "outlinewidth": 0,
             "ticks": ""
            },
            "type": "mesh3d"
           }
          ],
          "parcoords": [
           {
            "line": {
             "colorbar": {
              "outlinewidth": 0,
              "ticks": ""
             }
            },
            "type": "parcoords"
           }
          ],
          "pie": [
           {
            "automargin": true,
            "type": "pie"
           }
          ],
          "scatter": [
           {
            "fillpattern": {
             "fillmode": "overlay",
             "size": 10,
             "solidity": 0.2
            },
            "type": "scatter"
           }
          ],
          "scatter3d": [
           {
            "line": {
             "colorbar": {
              "outlinewidth": 0,
              "ticks": ""
             }
            },
            "marker": {
             "colorbar": {
              "outlinewidth": 0,
              "ticks": ""
             }
            },
            "type": "scatter3d"
           }
          ],
          "scattercarpet": [
           {
            "marker": {
             "colorbar": {
              "outlinewidth": 0,
              "ticks": ""
             }
            },
            "type": "scattercarpet"
           }
          ],
          "scattergeo": [
           {
            "marker": {
             "colorbar": {
              "outlinewidth": 0,
              "ticks": ""
             }
            },
            "type": "scattergeo"
           }
          ],
          "scattergl": [
           {
            "marker": {
             "colorbar": {
              "outlinewidth": 0,
              "ticks": ""
             }
            },
            "type": "scattergl"
           }
          ],
          "scattermap": [
           {
            "marker": {
             "colorbar": {
              "outlinewidth": 0,
              "ticks": ""
             }
            },
            "type": "scattermap"
           }
          ],
          "scattermapbox": [
           {
            "marker": {
             "colorbar": {
              "outlinewidth": 0,
              "ticks": ""
             }
            },
            "type": "scattermapbox"
           }
          ],
          "scatterpolar": [
           {
            "marker": {
             "colorbar": {
              "outlinewidth": 0,
              "ticks": ""
             }
            },
            "type": "scatterpolar"
           }
          ],
          "scatterpolargl": [
           {
            "marker": {
             "colorbar": {
              "outlinewidth": 0,
              "ticks": ""
             }
            },
            "type": "scatterpolargl"
           }
          ],
          "scatterternary": [
           {
            "marker": {
             "colorbar": {
              "outlinewidth": 0,
              "ticks": ""
             }
            },
            "type": "scatterternary"
           }
          ],
          "surface": [
           {
            "colorbar": {
             "outlinewidth": 0,
             "ticks": ""
            },
            "colorscale": [
             [
              0,
              "#0d0887"
             ],
             [
              0.1111111111111111,
              "#46039f"
             ],
             [
              0.2222222222222222,
              "#7201a8"
             ],
             [
              0.3333333333333333,
              "#9c179e"
             ],
             [
              0.4444444444444444,
              "#bd3786"
             ],
             [
              0.5555555555555556,
              "#d8576b"
             ],
             [
              0.6666666666666666,
              "#ed7953"
             ],
             [
              0.7777777777777778,
              "#fb9f3a"
             ],
             [
              0.8888888888888888,
              "#fdca26"
             ],
             [
              1,
              "#f0f921"
             ]
            ],
            "type": "surface"
           }
          ],
          "table": [
           {
            "cells": {
             "fill": {
              "color": "#EBF0F8"
             },
             "line": {
              "color": "white"
             }
            },
            "header": {
             "fill": {
              "color": "#C8D4E3"
             },
             "line": {
              "color": "white"
             }
            },
            "type": "table"
           }
          ]
         },
         "layout": {
          "annotationdefaults": {
           "arrowcolor": "#2a3f5f",
           "arrowhead": 0,
           "arrowwidth": 1
          },
          "autotypenumbers": "strict",
          "coloraxis": {
           "colorbar": {
            "outlinewidth": 0,
            "ticks": ""
           }
          },
          "colorscale": {
           "diverging": [
            [
             0,
             "#8e0152"
            ],
            [
             0.1,
             "#c51b7d"
            ],
            [
             0.2,
             "#de77ae"
            ],
            [
             0.3,
             "#f1b6da"
            ],
            [
             0.4,
             "#fde0ef"
            ],
            [
             0.5,
             "#f7f7f7"
            ],
            [
             0.6,
             "#e6f5d0"
            ],
            [
             0.7,
             "#b8e186"
            ],
            [
             0.8,
             "#7fbc41"
            ],
            [
             0.9,
             "#4d9221"
            ],
            [
             1,
             "#276419"
            ]
           ],
           "sequential": [
            [
             0,
             "#0d0887"
            ],
            [
             0.1111111111111111,
             "#46039f"
            ],
            [
             0.2222222222222222,
             "#7201a8"
            ],
            [
             0.3333333333333333,
             "#9c179e"
            ],
            [
             0.4444444444444444,
             "#bd3786"
            ],
            [
             0.5555555555555556,
             "#d8576b"
            ],
            [
             0.6666666666666666,
             "#ed7953"
            ],
            [
             0.7777777777777778,
             "#fb9f3a"
            ],
            [
             0.8888888888888888,
             "#fdca26"
            ],
            [
             1,
             "#f0f921"
            ]
           ],
           "sequentialminus": [
            [
             0,
             "#0d0887"
            ],
            [
             0.1111111111111111,
             "#46039f"
            ],
            [
             0.2222222222222222,
             "#7201a8"
            ],
            [
             0.3333333333333333,
             "#9c179e"
            ],
            [
             0.4444444444444444,
             "#bd3786"
            ],
            [
             0.5555555555555556,
             "#d8576b"
            ],
            [
             0.6666666666666666,
             "#ed7953"
            ],
            [
             0.7777777777777778,
             "#fb9f3a"
            ],
            [
             0.8888888888888888,
             "#fdca26"
            ],
            [
             1,
             "#f0f921"
            ]
           ]
          },
          "colorway": [
           "#636efa",
           "#EF553B",
           "#00cc96",
           "#ab63fa",
           "#FFA15A",
           "#19d3f3",
           "#FF6692",
           "#B6E880",
           "#FF97FF",
           "#FECB52"
          ],
          "font": {
           "color": "#2a3f5f"
          },
          "geo": {
           "bgcolor": "white",
           "lakecolor": "white",
           "landcolor": "#E5ECF6",
           "showlakes": true,
           "showland": true,
           "subunitcolor": "white"
          },
          "hoverlabel": {
           "align": "left"
          },
          "hovermode": "closest",
          "mapbox": {
           "style": "light"
          },
          "paper_bgcolor": "white",
          "plot_bgcolor": "#E5ECF6",
          "polar": {
           "angularaxis": {
            "gridcolor": "white",
            "linecolor": "white",
            "ticks": ""
           },
           "bgcolor": "#E5ECF6",
           "radialaxis": {
            "gridcolor": "white",
            "linecolor": "white",
            "ticks": ""
           }
          },
          "scene": {
           "xaxis": {
            "backgroundcolor": "#E5ECF6",
            "gridcolor": "white",
            "gridwidth": 2,
            "linecolor": "white",
            "showbackground": true,
            "ticks": "",
            "zerolinecolor": "white"
           },
           "yaxis": {
            "backgroundcolor": "#E5ECF6",
            "gridcolor": "white",
            "gridwidth": 2,
            "linecolor": "white",
            "showbackground": true,
            "ticks": "",
            "zerolinecolor": "white"
           },
           "zaxis": {
            "backgroundcolor": "#E5ECF6",
            "gridcolor": "white",
            "gridwidth": 2,
            "linecolor": "white",
            "showbackground": true,
            "ticks": "",
            "zerolinecolor": "white"
           }
          },
          "shapedefaults": {
           "line": {
            "color": "#2a3f5f"
           }
          },
          "ternary": {
           "aaxis": {
            "gridcolor": "white",
            "linecolor": "white",
            "ticks": ""
           },
           "baxis": {
            "gridcolor": "white",
            "linecolor": "white",
            "ticks": ""
           },
           "bgcolor": "#E5ECF6",
           "caxis": {
            "gridcolor": "white",
            "linecolor": "white",
            "ticks": ""
           }
          },
          "title": {
           "x": 0.05
          },
          "xaxis": {
           "automargin": true,
           "gridcolor": "white",
           "linecolor": "white",
           "ticks": "",
           "title": {
            "standoff": 15
           },
           "zerolinecolor": "white",
           "zerolinewidth": 2
          },
          "yaxis": {
           "automargin": true,
           "gridcolor": "white",
           "linecolor": "white",
           "ticks": "",
           "title": {
            "standoff": 15
           },
           "zerolinecolor": "white",
           "zerolinewidth": 2
          }
         }
        },
        "title": {
         "text": "Entries across the years"
        },
        "xaxis": {
         "anchor": "y",
         "domain": [
          0,
          1
         ],
         "title": {
          "text": "Year"
         }
        },
        "yaxis": {
         "anchor": "x",
         "domain": [
          0,
          1
         ],
         "title": {
          "text": "count"
         }
        }
       }
      }
     },
     "metadata": {},
     "output_type": "display_data"
    }
   ],
   "source": [
    "def generate_yearly_histogram(df):           # Define a function to generate a histogram of entries by year\n",
    "    df[\"Date\"] = pd.to_datetime(df[\"Date\"])  # Convert the 'Date' column to datetime format\n",
    "    df[\"Year\"] = df[\"Date\"].dt.year          # Extract the year from each date and store it in a new column\n",
    "\n",
    "    fig = px.histogram(                      # Create a histogram using Plotly Express\n",
    "        data_frame=df,                       # Use the enriched DataFrame as input\n",
    "        x=\"Year\",                            # Set the x-axis to display dates\n",
    "        title=\"Entries across the years\"     # Set the chart title\n",
    "    )\n",
    "\n",
    "    fig.update_layout(                       # Customize the layout of the histogram\n",
    "        xaxis_title=\"Year\",                  # Add a descriptive label for the x-axis\n",
    "        bargap=0.5                           # Set the gap between bars for better readability\n",
    "    )\n",
    "\n",
    "    print(\"Histogram:\")                      # Display an informative message in the console\n",
    "    fig.show()                               # Render the histogram in the browser or notebook\n",
    "\n",
    "generate_yearly_histogram(df)                # Call the function to generate and display the histogram"
   ]
  },
  {
   "cell_type": "markdown",
   "id": "d87a6b40",
   "metadata": {},
   "source": [
    "### 📌 **Observation**\n",
    "\n",
    "The dataset includes entries from `2016` to `2024`, with visible fluctuations in yearly volume.  \n",
    "Years like `2018` and `2023` show the highest activity, while `2017` and `2021` are notably lower.\n",
    "\n",
    "This distribution highlights `uneven engagement over time`, offering a useful baseline for identifying `behavioral trends` and guiding further analysis of `mood`, `stress`, `sleep`, and `exercise`."
   ]
  },
  {
   "cell_type": "markdown",
   "id": "1be03f39",
   "metadata": {},
   "source": [
    "## **📊 Step 3: Behavioral Analysis**\n",
    "\n",
    "In this step, we will investigate how lifestyle factors such as `Sleep Hours`, `Exercise`, `Stress Level`, and `Social Interactions` relate to `Mood Score`.\n",
    "\n",
    "We will use a combination of `boxplots` and `scatter plots` to identify distribution patterns and potential correlations.  \n",
    "This will help us understand which behaviors are most strongly associated with emotional well-being, and how these relationships vary across different day types (`Type`)."
   ]
  },
  {
   "cell_type": "code",
   "execution_count": 372,
   "id": "ffade552",
   "metadata": {},
   "outputs": [
    {
     "name": "stdout",
     "output_type": "stream",
     "text": [
      "Boxplot ( Sleep Hours vs Mood Score )\n"
     ]
    },
    {
     "data": {
      "application/vnd.plotly.v1+json": {
       "config": {
        "plotlyServerURL": "https://plot.ly"
       },
       "data": [
        {
         "alignmentgroup": "True",
         "boxpoints": "all",
         "hovertemplate": "Type=Weekend<br>Mood Score=%{x}<br>Sleep Hours=%{y}<extra></extra>",
         "legendgroup": "Weekend",
         "marker": {
          "color": "#636efa"
         },
         "name": "Weekend",
         "notched": false,
         "offsetgroup": "Weekend",
         "orientation": "v",
         "showlegend": true,
         "type": "box",
         "x": {
          "bdata": "BAMBAgQCAwQGCQYDAwkCAgkCAgQBBQICAQoHBQcBBQUF",
          "dtype": "i1"
         },
         "x0": " ",
         "xaxis": "x",
         "y": {
          "bdata": "MzMzMzMzE0AzMzMzMzMhQAAAAAAAACFAMzMzMzMzIUAzMzMzMzMhQGZmZmZmZh5AmpmZmZmZG0DNzMzMzMweQGZmZmZmZhRAMzMzMzMzFUDNzMzMzMwgQDMzMzMzMx1AZmZmZmZmGkDNzMzMzMwSQAAAAAAAABZAzczMzMzMHEDNzMzMzMwYQJqZmZmZmRtAMzMzMzMzIUCamZmZmZkbQM3MzMzMzBZAzczMzMzMHkCamZmZmZkbQAAAAAAAABpAAAAAAAAAGEDNzMzMzMwSQDMzMzMzMyBAMzMzMzMzH0AAAAAAAAAgQAAAAAAAACJAzczMzMzMIUBmZmZmZmYWQM3MzMzMzB5A",
          "dtype": "f8"
         },
         "y0": " ",
         "yaxis": "y"
        },
        {
         "alignmentgroup": "True",
         "boxpoints": "all",
         "hovertemplate": "Type=Sick Day<br>Mood Score=%{x}<br>Sleep Hours=%{y}<extra></extra>",
         "legendgroup": "Sick Day",
         "marker": {
          "color": "#EF553B"
         },
         "name": "Sick Day",
         "notched": false,
         "offsetgroup": "Sick Day",
         "orientation": "v",
         "showlegend": true,
         "type": "box",
         "x": {
          "bdata": "CggHCAgGBQkICQgGBwcKCAQJBAYBAwgC",
          "dtype": "i1"
         },
         "x0": " ",
         "xaxis": "x",
         "y": {
          "bdata": "MzMzMzMzF0AAAAAAAAAaQDMzMzMzMx1AmpmZmZmZIUAAAAAAAAAUQDMzMzMzMyBAmpmZmZmZEUAAAAAAAAAeQDMzMzMzMyFAzczMzMzMIEAzMzMzMzMhQM3MzMzMzBpAMzMzMzMzF0AzMzMzMzMfQJqZmZmZmR9AzczMzMzMGEAzMzMzMzMVQDMzMzMzMxlAZmZmZmZmIECamZmZmZkXQAAAAAAAAB5AzczMzMzMGkDNzMzMzMwaQDMzMzMzMyBA",
          "dtype": "f8"
         },
         "y0": " ",
         "yaxis": "y"
        },
        {
         "alignmentgroup": "True",
         "boxpoints": "all",
         "hovertemplate": "Type=Holiday<br>Mood Score=%{x}<br>Sleep Hours=%{y}<extra></extra>",
         "legendgroup": "Holiday",
         "marker": {
          "color": "#00cc96"
         },
         "name": "Holiday",
         "notched": false,
         "offsetgroup": "Holiday",
         "orientation": "v",
         "showlegend": true,
         "type": "box",
         "x": {
          "bdata": "BwECBAICAQYCBQcDBwkC",
          "dtype": "i1"
         },
         "x0": " ",
         "xaxis": "x",
         "y": {
          "bdata": "AAAAAAAAIkCamZmZmZkgQGZmZmZmZhZAZmZmZmZmGEAAAAAAAAAaQJqZmZmZmRtAZmZmZmZmHEAzMzMzMzMfQDMzMzMzMyBAMzMzMzMzG0AAAAAAAAAgQAAAAAAAABZAzczMzMzMFkDNzMzMzMwYQDMzMzMzMxdA",
          "dtype": "f8"
         },
         "y0": " ",
         "yaxis": "y"
        },
        {
         "alignmentgroup": "True",
         "boxpoints": "all",
         "hovertemplate": "Type=Workday<br>Mood Score=%{x}<br>Sleep Hours=%{y}<extra></extra>",
         "legendgroup": "Workday",
         "marker": {
          "color": "#ab63fa"
         },
         "name": "Workday",
         "notched": false,
         "offsetgroup": "Workday",
         "orientation": "v",
         "showlegend": true,
         "type": "box",
         "x": {
          "bdata": "BAEECAMECQIDBQoJCQQDBwoHAwMDCAIIAQEKCg==",
          "dtype": "i1"
         },
         "x0": " ",
         "xaxis": "x",
         "y": {
          "bdata": "AAAAAAAAHkAzMzMzMzMgQJqZmZmZmSBAMzMzMzMzGUAzMzMzMzMhQM3MzMzMzBRAmpmZmZmZF0DNzMzMzMwQQDMzMzMzMyFAzczMzMzMEkAAAAAAAAAYQAAAAAAAAB5AzczMzMzMIECamZmZmZkVQM3MzMzMzBhAmpmZmZmZEUDNzMzMzMwSQGZmZmZmZhBAMzMzMzMzEUAAAAAAAAAhQGZmZmZmZhJAZmZmZmZmHkCamZmZmZkVQM3MzMzMzB5AZmZmZmZmIUDNzMzMzMwcQDMzMzMzMyFAZmZmZmZmHkA=",
          "dtype": "f8"
         },
         "y0": " ",
         "yaxis": "y"
        }
       ],
       "layout": {
        "boxmode": "group",
        "legend": {
         "title": {
          "text": "Type"
         },
         "tracegroupgap": 0
        },
        "template": {
         "data": {
          "bar": [
           {
            "error_x": {
             "color": "#2a3f5f"
            },
            "error_y": {
             "color": "#2a3f5f"
            },
            "marker": {
             "line": {
              "color": "#E5ECF6",
              "width": 0.5
             },
             "pattern": {
              "fillmode": "overlay",
              "size": 10,
              "solidity": 0.2
             }
            },
            "type": "bar"
           }
          ],
          "barpolar": [
           {
            "marker": {
             "line": {
              "color": "#E5ECF6",
              "width": 0.5
             },
             "pattern": {
              "fillmode": "overlay",
              "size": 10,
              "solidity": 0.2
             }
            },
            "type": "barpolar"
           }
          ],
          "carpet": [
           {
            "aaxis": {
             "endlinecolor": "#2a3f5f",
             "gridcolor": "white",
             "linecolor": "white",
             "minorgridcolor": "white",
             "startlinecolor": "#2a3f5f"
            },
            "baxis": {
             "endlinecolor": "#2a3f5f",
             "gridcolor": "white",
             "linecolor": "white",
             "minorgridcolor": "white",
             "startlinecolor": "#2a3f5f"
            },
            "type": "carpet"
           }
          ],
          "choropleth": [
           {
            "colorbar": {
             "outlinewidth": 0,
             "ticks": ""
            },
            "type": "choropleth"
           }
          ],
          "contour": [
           {
            "colorbar": {
             "outlinewidth": 0,
             "ticks": ""
            },
            "colorscale": [
             [
              0,
              "#0d0887"
             ],
             [
              0.1111111111111111,
              "#46039f"
             ],
             [
              0.2222222222222222,
              "#7201a8"
             ],
             [
              0.3333333333333333,
              "#9c179e"
             ],
             [
              0.4444444444444444,
              "#bd3786"
             ],
             [
              0.5555555555555556,
              "#d8576b"
             ],
             [
              0.6666666666666666,
              "#ed7953"
             ],
             [
              0.7777777777777778,
              "#fb9f3a"
             ],
             [
              0.8888888888888888,
              "#fdca26"
             ],
             [
              1,
              "#f0f921"
             ]
            ],
            "type": "contour"
           }
          ],
          "contourcarpet": [
           {
            "colorbar": {
             "outlinewidth": 0,
             "ticks": ""
            },
            "type": "contourcarpet"
           }
          ],
          "heatmap": [
           {
            "colorbar": {
             "outlinewidth": 0,
             "ticks": ""
            },
            "colorscale": [
             [
              0,
              "#0d0887"
             ],
             [
              0.1111111111111111,
              "#46039f"
             ],
             [
              0.2222222222222222,
              "#7201a8"
             ],
             [
              0.3333333333333333,
              "#9c179e"
             ],
             [
              0.4444444444444444,
              "#bd3786"
             ],
             [
              0.5555555555555556,
              "#d8576b"
             ],
             [
              0.6666666666666666,
              "#ed7953"
             ],
             [
              0.7777777777777778,
              "#fb9f3a"
             ],
             [
              0.8888888888888888,
              "#fdca26"
             ],
             [
              1,
              "#f0f921"
             ]
            ],
            "type": "heatmap"
           }
          ],
          "histogram": [
           {
            "marker": {
             "pattern": {
              "fillmode": "overlay",
              "size": 10,
              "solidity": 0.2
             }
            },
            "type": "histogram"
           }
          ],
          "histogram2d": [
           {
            "colorbar": {
             "outlinewidth": 0,
             "ticks": ""
            },
            "colorscale": [
             [
              0,
              "#0d0887"
             ],
             [
              0.1111111111111111,
              "#46039f"
             ],
             [
              0.2222222222222222,
              "#7201a8"
             ],
             [
              0.3333333333333333,
              "#9c179e"
             ],
             [
              0.4444444444444444,
              "#bd3786"
             ],
             [
              0.5555555555555556,
              "#d8576b"
             ],
             [
              0.6666666666666666,
              "#ed7953"
             ],
             [
              0.7777777777777778,
              "#fb9f3a"
             ],
             [
              0.8888888888888888,
              "#fdca26"
             ],
             [
              1,
              "#f0f921"
             ]
            ],
            "type": "histogram2d"
           }
          ],
          "histogram2dcontour": [
           {
            "colorbar": {
             "outlinewidth": 0,
             "ticks": ""
            },
            "colorscale": [
             [
              0,
              "#0d0887"
             ],
             [
              0.1111111111111111,
              "#46039f"
             ],
             [
              0.2222222222222222,
              "#7201a8"
             ],
             [
              0.3333333333333333,
              "#9c179e"
             ],
             [
              0.4444444444444444,
              "#bd3786"
             ],
             [
              0.5555555555555556,
              "#d8576b"
             ],
             [
              0.6666666666666666,
              "#ed7953"
             ],
             [
              0.7777777777777778,
              "#fb9f3a"
             ],
             [
              0.8888888888888888,
              "#fdca26"
             ],
             [
              1,
              "#f0f921"
             ]
            ],
            "type": "histogram2dcontour"
           }
          ],
          "mesh3d": [
           {
            "colorbar": {
             "outlinewidth": 0,
             "ticks": ""
            },
            "type": "mesh3d"
           }
          ],
          "parcoords": [
           {
            "line": {
             "colorbar": {
              "outlinewidth": 0,
              "ticks": ""
             }
            },
            "type": "parcoords"
           }
          ],
          "pie": [
           {
            "automargin": true,
            "type": "pie"
           }
          ],
          "scatter": [
           {
            "fillpattern": {
             "fillmode": "overlay",
             "size": 10,
             "solidity": 0.2
            },
            "type": "scatter"
           }
          ],
          "scatter3d": [
           {
            "line": {
             "colorbar": {
              "outlinewidth": 0,
              "ticks": ""
             }
            },
            "marker": {
             "colorbar": {
              "outlinewidth": 0,
              "ticks": ""
             }
            },
            "type": "scatter3d"
           }
          ],
          "scattercarpet": [
           {
            "marker": {
             "colorbar": {
              "outlinewidth": 0,
              "ticks": ""
             }
            },
            "type": "scattercarpet"
           }
          ],
          "scattergeo": [
           {
            "marker": {
             "colorbar": {
              "outlinewidth": 0,
              "ticks": ""
             }
            },
            "type": "scattergeo"
           }
          ],
          "scattergl": [
           {
            "marker": {
             "colorbar": {
              "outlinewidth": 0,
              "ticks": ""
             }
            },
            "type": "scattergl"
           }
          ],
          "scattermap": [
           {
            "marker": {
             "colorbar": {
              "outlinewidth": 0,
              "ticks": ""
             }
            },
            "type": "scattermap"
           }
          ],
          "scattermapbox": [
           {
            "marker": {
             "colorbar": {
              "outlinewidth": 0,
              "ticks": ""
             }
            },
            "type": "scattermapbox"
           }
          ],
          "scatterpolar": [
           {
            "marker": {
             "colorbar": {
              "outlinewidth": 0,
              "ticks": ""
             }
            },
            "type": "scatterpolar"
           }
          ],
          "scatterpolargl": [
           {
            "marker": {
             "colorbar": {
              "outlinewidth": 0,
              "ticks": ""
             }
            },
            "type": "scatterpolargl"
           }
          ],
          "scatterternary": [
           {
            "marker": {
             "colorbar": {
              "outlinewidth": 0,
              "ticks": ""
             }
            },
            "type": "scatterternary"
           }
          ],
          "surface": [
           {
            "colorbar": {
             "outlinewidth": 0,
             "ticks": ""
            },
            "colorscale": [
             [
              0,
              "#0d0887"
             ],
             [
              0.1111111111111111,
              "#46039f"
             ],
             [
              0.2222222222222222,
              "#7201a8"
             ],
             [
              0.3333333333333333,
              "#9c179e"
             ],
             [
              0.4444444444444444,
              "#bd3786"
             ],
             [
              0.5555555555555556,
              "#d8576b"
             ],
             [
              0.6666666666666666,
              "#ed7953"
             ],
             [
              0.7777777777777778,
              "#fb9f3a"
             ],
             [
              0.8888888888888888,
              "#fdca26"
             ],
             [
              1,
              "#f0f921"
             ]
            ],
            "type": "surface"
           }
          ],
          "table": [
           {
            "cells": {
             "fill": {
              "color": "#EBF0F8"
             },
             "line": {
              "color": "white"
             }
            },
            "header": {
             "fill": {
              "color": "#C8D4E3"
             },
             "line": {
              "color": "white"
             }
            },
            "type": "table"
           }
          ]
         },
         "layout": {
          "annotationdefaults": {
           "arrowcolor": "#2a3f5f",
           "arrowhead": 0,
           "arrowwidth": 1
          },
          "autotypenumbers": "strict",
          "coloraxis": {
           "colorbar": {
            "outlinewidth": 0,
            "ticks": ""
           }
          },
          "colorscale": {
           "diverging": [
            [
             0,
             "#8e0152"
            ],
            [
             0.1,
             "#c51b7d"
            ],
            [
             0.2,
             "#de77ae"
            ],
            [
             0.3,
             "#f1b6da"
            ],
            [
             0.4,
             "#fde0ef"
            ],
            [
             0.5,
             "#f7f7f7"
            ],
            [
             0.6,
             "#e6f5d0"
            ],
            [
             0.7,
             "#b8e186"
            ],
            [
             0.8,
             "#7fbc41"
            ],
            [
             0.9,
             "#4d9221"
            ],
            [
             1,
             "#276419"
            ]
           ],
           "sequential": [
            [
             0,
             "#0d0887"
            ],
            [
             0.1111111111111111,
             "#46039f"
            ],
            [
             0.2222222222222222,
             "#7201a8"
            ],
            [
             0.3333333333333333,
             "#9c179e"
            ],
            [
             0.4444444444444444,
             "#bd3786"
            ],
            [
             0.5555555555555556,
             "#d8576b"
            ],
            [
             0.6666666666666666,
             "#ed7953"
            ],
            [
             0.7777777777777778,
             "#fb9f3a"
            ],
            [
             0.8888888888888888,
             "#fdca26"
            ],
            [
             1,
             "#f0f921"
            ]
           ],
           "sequentialminus": [
            [
             0,
             "#0d0887"
            ],
            [
             0.1111111111111111,
             "#46039f"
            ],
            [
             0.2222222222222222,
             "#7201a8"
            ],
            [
             0.3333333333333333,
             "#9c179e"
            ],
            [
             0.4444444444444444,
             "#bd3786"
            ],
            [
             0.5555555555555556,
             "#d8576b"
            ],
            [
             0.6666666666666666,
             "#ed7953"
            ],
            [
             0.7777777777777778,
             "#fb9f3a"
            ],
            [
             0.8888888888888888,
             "#fdca26"
            ],
            [
             1,
             "#f0f921"
            ]
           ]
          },
          "colorway": [
           "#636efa",
           "#EF553B",
           "#00cc96",
           "#ab63fa",
           "#FFA15A",
           "#19d3f3",
           "#FF6692",
           "#B6E880",
           "#FF97FF",
           "#FECB52"
          ],
          "font": {
           "color": "#2a3f5f"
          },
          "geo": {
           "bgcolor": "white",
           "lakecolor": "white",
           "landcolor": "#E5ECF6",
           "showlakes": true,
           "showland": true,
           "subunitcolor": "white"
          },
          "hoverlabel": {
           "align": "left"
          },
          "hovermode": "closest",
          "mapbox": {
           "style": "light"
          },
          "paper_bgcolor": "white",
          "plot_bgcolor": "#E5ECF6",
          "polar": {
           "angularaxis": {
            "gridcolor": "white",
            "linecolor": "white",
            "ticks": ""
           },
           "bgcolor": "#E5ECF6",
           "radialaxis": {
            "gridcolor": "white",
            "linecolor": "white",
            "ticks": ""
           }
          },
          "scene": {
           "xaxis": {
            "backgroundcolor": "#E5ECF6",
            "gridcolor": "white",
            "gridwidth": 2,
            "linecolor": "white",
            "showbackground": true,
            "ticks": "",
            "zerolinecolor": "white"
           },
           "yaxis": {
            "backgroundcolor": "#E5ECF6",
            "gridcolor": "white",
            "gridwidth": 2,
            "linecolor": "white",
            "showbackground": true,
            "ticks": "",
            "zerolinecolor": "white"
           },
           "zaxis": {
            "backgroundcolor": "#E5ECF6",
            "gridcolor": "white",
            "gridwidth": 2,
            "linecolor": "white",
            "showbackground": true,
            "ticks": "",
            "zerolinecolor": "white"
           }
          },
          "shapedefaults": {
           "line": {
            "color": "#2a3f5f"
           }
          },
          "ternary": {
           "aaxis": {
            "gridcolor": "white",
            "linecolor": "white",
            "ticks": ""
           },
           "baxis": {
            "gridcolor": "white",
            "linecolor": "white",
            "ticks": ""
           },
           "bgcolor": "#E5ECF6",
           "caxis": {
            "gridcolor": "white",
            "linecolor": "white",
            "ticks": ""
           }
          },
          "title": {
           "x": 0.05
          },
          "xaxis": {
           "automargin": true,
           "gridcolor": "white",
           "linecolor": "white",
           "ticks": "",
           "title": {
            "standoff": 15
           },
           "zerolinecolor": "white",
           "zerolinewidth": 2
          },
          "yaxis": {
           "automargin": true,
           "gridcolor": "white",
           "linecolor": "white",
           "ticks": "",
           "title": {
            "standoff": 15
           },
           "zerolinecolor": "white",
           "zerolinewidth": 2
          }
         }
        },
        "title": {
         "text": "Sleep Hours Distribution by Mood Score"
        },
        "xaxis": {
         "anchor": "y",
         "domain": [
          0,
          1
         ],
         "title": {
          "text": "Mood Score"
         }
        },
        "yaxis": {
         "anchor": "x",
         "domain": [
          0,
          1
         ],
         "title": {
          "text": "Sleep Hours"
         }
        }
       }
      }
     },
     "metadata": {},
     "output_type": "display_data"
    },
    {
     "name": "stdout",
     "output_type": "stream",
     "text": [
      "Boxplot ( Stress Level vs Mood Score )\n"
     ]
    },
    {
     "data": {
      "application/vnd.plotly.v1+json": {
       "config": {
        "plotlyServerURL": "https://plot.ly"
       },
       "data": [
        {
         "alignmentgroup": "True",
         "boxpoints": "all",
         "hovertemplate": "Type=Weekend<br>Mood Score=%{x}<br>Stress Level=%{y}<extra></extra>",
         "legendgroup": "Weekend",
         "marker": {
          "color": "#636efa"
         },
         "name": "Weekend",
         "notched": false,
         "offsetgroup": "Weekend",
         "orientation": "v",
         "showlegend": true,
         "type": "box",
         "x": {
          "bdata": "BAMBAgQCAwQGCQYDAwkCAgkCAgQBBQICAQoHBQcBBQUF",
          "dtype": "i1"
         },
         "x0": " ",
         "xaxis": "x",
         "y": {
          "bdata": "CAkBBgYFCAMEAQoDCAQCCgcDBAgCAQEICAcCAQkBBQkG",
          "dtype": "i1"
         },
         "y0": " ",
         "yaxis": "y"
        },
        {
         "alignmentgroup": "True",
         "boxpoints": "all",
         "hovertemplate": "Type=Sick Day<br>Mood Score=%{x}<br>Stress Level=%{y}<extra></extra>",
         "legendgroup": "Sick Day",
         "marker": {
          "color": "#EF553B"
         },
         "name": "Sick Day",
         "notched": false,
         "offsetgroup": "Sick Day",
         "orientation": "v",
         "showlegend": true,
         "type": "box",
         "x": {
          "bdata": "CggHCAgGBQkICQgGBwcKCAQJBAYBAwgC",
          "dtype": "i1"
         },
         "x0": " ",
         "xaxis": "x",
         "y": {
          "bdata": "BgkFBQIKBggBBQUECQIGCAECAwQEAggE",
          "dtype": "i1"
         },
         "y0": " ",
         "yaxis": "y"
        },
        {
         "alignmentgroup": "True",
         "boxpoints": "all",
         "hovertemplate": "Type=Holiday<br>Mood Score=%{x}<br>Stress Level=%{y}<extra></extra>",
         "legendgroup": "Holiday",
         "marker": {
          "color": "#00cc96"
         },
         "name": "Holiday",
         "notched": false,
         "offsetgroup": "Holiday",
         "orientation": "v",
         "showlegend": true,
         "type": "box",
         "x": {
          "bdata": "BwECBAICAQYCBQcDBwkC",
          "dtype": "i1"
         },
         "x0": " ",
         "xaxis": "x",
         "y": {
          "bdata": "BwIFBgEJCgcGBgMBCgkE",
          "dtype": "i1"
         },
         "y0": " ",
         "yaxis": "y"
        },
        {
         "alignmentgroup": "True",
         "boxpoints": "all",
         "hovertemplate": "Type=Workday<br>Mood Score=%{x}<br>Stress Level=%{y}<extra></extra>",
         "legendgroup": "Workday",
         "marker": {
          "color": "#ab63fa"
         },
         "name": "Workday",
         "notched": false,
         "offsetgroup": "Workday",
         "orientation": "v",
         "showlegend": true,
         "type": "box",
         "x": {
          "bdata": "BAEECAMECQIDBQoJCQQDBwoHAwMDCAIIAQEKCg==",
          "dtype": "i1"
         },
         "x0": " ",
         "xaxis": "x",
         "y": {
          "bdata": "CgYIBAkCCAgEAgEIBQcHAgkFCQgJCAYBBQICCQ==",
          "dtype": "i1"
         },
         "y0": " ",
         "yaxis": "y"
        }
       ],
       "layout": {
        "boxmode": "group",
        "legend": {
         "title": {
          "text": "Type"
         },
         "tracegroupgap": 0
        },
        "template": {
         "data": {
          "bar": [
           {
            "error_x": {
             "color": "#2a3f5f"
            },
            "error_y": {
             "color": "#2a3f5f"
            },
            "marker": {
             "line": {
              "color": "#E5ECF6",
              "width": 0.5
             },
             "pattern": {
              "fillmode": "overlay",
              "size": 10,
              "solidity": 0.2
             }
            },
            "type": "bar"
           }
          ],
          "barpolar": [
           {
            "marker": {
             "line": {
              "color": "#E5ECF6",
              "width": 0.5
             },
             "pattern": {
              "fillmode": "overlay",
              "size": 10,
              "solidity": 0.2
             }
            },
            "type": "barpolar"
           }
          ],
          "carpet": [
           {
            "aaxis": {
             "endlinecolor": "#2a3f5f",
             "gridcolor": "white",
             "linecolor": "white",
             "minorgridcolor": "white",
             "startlinecolor": "#2a3f5f"
            },
            "baxis": {
             "endlinecolor": "#2a3f5f",
             "gridcolor": "white",
             "linecolor": "white",
             "minorgridcolor": "white",
             "startlinecolor": "#2a3f5f"
            },
            "type": "carpet"
           }
          ],
          "choropleth": [
           {
            "colorbar": {
             "outlinewidth": 0,
             "ticks": ""
            },
            "type": "choropleth"
           }
          ],
          "contour": [
           {
            "colorbar": {
             "outlinewidth": 0,
             "ticks": ""
            },
            "colorscale": [
             [
              0,
              "#0d0887"
             ],
             [
              0.1111111111111111,
              "#46039f"
             ],
             [
              0.2222222222222222,
              "#7201a8"
             ],
             [
              0.3333333333333333,
              "#9c179e"
             ],
             [
              0.4444444444444444,
              "#bd3786"
             ],
             [
              0.5555555555555556,
              "#d8576b"
             ],
             [
              0.6666666666666666,
              "#ed7953"
             ],
             [
              0.7777777777777778,
              "#fb9f3a"
             ],
             [
              0.8888888888888888,
              "#fdca26"
             ],
             [
              1,
              "#f0f921"
             ]
            ],
            "type": "contour"
           }
          ],
          "contourcarpet": [
           {
            "colorbar": {
             "outlinewidth": 0,
             "ticks": ""
            },
            "type": "contourcarpet"
           }
          ],
          "heatmap": [
           {
            "colorbar": {
             "outlinewidth": 0,
             "ticks": ""
            },
            "colorscale": [
             [
              0,
              "#0d0887"
             ],
             [
              0.1111111111111111,
              "#46039f"
             ],
             [
              0.2222222222222222,
              "#7201a8"
             ],
             [
              0.3333333333333333,
              "#9c179e"
             ],
             [
              0.4444444444444444,
              "#bd3786"
             ],
             [
              0.5555555555555556,
              "#d8576b"
             ],
             [
              0.6666666666666666,
              "#ed7953"
             ],
             [
              0.7777777777777778,
              "#fb9f3a"
             ],
             [
              0.8888888888888888,
              "#fdca26"
             ],
             [
              1,
              "#f0f921"
             ]
            ],
            "type": "heatmap"
           }
          ],
          "histogram": [
           {
            "marker": {
             "pattern": {
              "fillmode": "overlay",
              "size": 10,
              "solidity": 0.2
             }
            },
            "type": "histogram"
           }
          ],
          "histogram2d": [
           {
            "colorbar": {
             "outlinewidth": 0,
             "ticks": ""
            },
            "colorscale": [
             [
              0,
              "#0d0887"
             ],
             [
              0.1111111111111111,
              "#46039f"
             ],
             [
              0.2222222222222222,
              "#7201a8"
             ],
             [
              0.3333333333333333,
              "#9c179e"
             ],
             [
              0.4444444444444444,
              "#bd3786"
             ],
             [
              0.5555555555555556,
              "#d8576b"
             ],
             [
              0.6666666666666666,
              "#ed7953"
             ],
             [
              0.7777777777777778,
              "#fb9f3a"
             ],
             [
              0.8888888888888888,
              "#fdca26"
             ],
             [
              1,
              "#f0f921"
             ]
            ],
            "type": "histogram2d"
           }
          ],
          "histogram2dcontour": [
           {
            "colorbar": {
             "outlinewidth": 0,
             "ticks": ""
            },
            "colorscale": [
             [
              0,
              "#0d0887"
             ],
             [
              0.1111111111111111,
              "#46039f"
             ],
             [
              0.2222222222222222,
              "#7201a8"
             ],
             [
              0.3333333333333333,
              "#9c179e"
             ],
             [
              0.4444444444444444,
              "#bd3786"
             ],
             [
              0.5555555555555556,
              "#d8576b"
             ],
             [
              0.6666666666666666,
              "#ed7953"
             ],
             [
              0.7777777777777778,
              "#fb9f3a"
             ],
             [
              0.8888888888888888,
              "#fdca26"
             ],
             [
              1,
              "#f0f921"
             ]
            ],
            "type": "histogram2dcontour"
           }
          ],
          "mesh3d": [
           {
            "colorbar": {
             "outlinewidth": 0,
             "ticks": ""
            },
            "type": "mesh3d"
           }
          ],
          "parcoords": [
           {
            "line": {
             "colorbar": {
              "outlinewidth": 0,
              "ticks": ""
             }
            },
            "type": "parcoords"
           }
          ],
          "pie": [
           {
            "automargin": true,
            "type": "pie"
           }
          ],
          "scatter": [
           {
            "fillpattern": {
             "fillmode": "overlay",
             "size": 10,
             "solidity": 0.2
            },
            "type": "scatter"
           }
          ],
          "scatter3d": [
           {
            "line": {
             "colorbar": {
              "outlinewidth": 0,
              "ticks": ""
             }
            },
            "marker": {
             "colorbar": {
              "outlinewidth": 0,
              "ticks": ""
             }
            },
            "type": "scatter3d"
           }
          ],
          "scattercarpet": [
           {
            "marker": {
             "colorbar": {
              "outlinewidth": 0,
              "ticks": ""
             }
            },
            "type": "scattercarpet"
           }
          ],
          "scattergeo": [
           {
            "marker": {
             "colorbar": {
              "outlinewidth": 0,
              "ticks": ""
             }
            },
            "type": "scattergeo"
           }
          ],
          "scattergl": [
           {
            "marker": {
             "colorbar": {
              "outlinewidth": 0,
              "ticks": ""
             }
            },
            "type": "scattergl"
           }
          ],
          "scattermap": [
           {
            "marker": {
             "colorbar": {
              "outlinewidth": 0,
              "ticks": ""
             }
            },
            "type": "scattermap"
           }
          ],
          "scattermapbox": [
           {
            "marker": {
             "colorbar": {
              "outlinewidth": 0,
              "ticks": ""
             }
            },
            "type": "scattermapbox"
           }
          ],
          "scatterpolar": [
           {
            "marker": {
             "colorbar": {
              "outlinewidth": 0,
              "ticks": ""
             }
            },
            "type": "scatterpolar"
           }
          ],
          "scatterpolargl": [
           {
            "marker": {
             "colorbar": {
              "outlinewidth": 0,
              "ticks": ""
             }
            },
            "type": "scatterpolargl"
           }
          ],
          "scatterternary": [
           {
            "marker": {
             "colorbar": {
              "outlinewidth": 0,
              "ticks": ""
             }
            },
            "type": "scatterternary"
           }
          ],
          "surface": [
           {
            "colorbar": {
             "outlinewidth": 0,
             "ticks": ""
            },
            "colorscale": [
             [
              0,
              "#0d0887"
             ],
             [
              0.1111111111111111,
              "#46039f"
             ],
             [
              0.2222222222222222,
              "#7201a8"
             ],
             [
              0.3333333333333333,
              "#9c179e"
             ],
             [
              0.4444444444444444,
              "#bd3786"
             ],
             [
              0.5555555555555556,
              "#d8576b"
             ],
             [
              0.6666666666666666,
              "#ed7953"
             ],
             [
              0.7777777777777778,
              "#fb9f3a"
             ],
             [
              0.8888888888888888,
              "#fdca26"
             ],
             [
              1,
              "#f0f921"
             ]
            ],
            "type": "surface"
           }
          ],
          "table": [
           {
            "cells": {
             "fill": {
              "color": "#EBF0F8"
             },
             "line": {
              "color": "white"
             }
            },
            "header": {
             "fill": {
              "color": "#C8D4E3"
             },
             "line": {
              "color": "white"
             }
            },
            "type": "table"
           }
          ]
         },
         "layout": {
          "annotationdefaults": {
           "arrowcolor": "#2a3f5f",
           "arrowhead": 0,
           "arrowwidth": 1
          },
          "autotypenumbers": "strict",
          "coloraxis": {
           "colorbar": {
            "outlinewidth": 0,
            "ticks": ""
           }
          },
          "colorscale": {
           "diverging": [
            [
             0,
             "#8e0152"
            ],
            [
             0.1,
             "#c51b7d"
            ],
            [
             0.2,
             "#de77ae"
            ],
            [
             0.3,
             "#f1b6da"
            ],
            [
             0.4,
             "#fde0ef"
            ],
            [
             0.5,
             "#f7f7f7"
            ],
            [
             0.6,
             "#e6f5d0"
            ],
            [
             0.7,
             "#b8e186"
            ],
            [
             0.8,
             "#7fbc41"
            ],
            [
             0.9,
             "#4d9221"
            ],
            [
             1,
             "#276419"
            ]
           ],
           "sequential": [
            [
             0,
             "#0d0887"
            ],
            [
             0.1111111111111111,
             "#46039f"
            ],
            [
             0.2222222222222222,
             "#7201a8"
            ],
            [
             0.3333333333333333,
             "#9c179e"
            ],
            [
             0.4444444444444444,
             "#bd3786"
            ],
            [
             0.5555555555555556,
             "#d8576b"
            ],
            [
             0.6666666666666666,
             "#ed7953"
            ],
            [
             0.7777777777777778,
             "#fb9f3a"
            ],
            [
             0.8888888888888888,
             "#fdca26"
            ],
            [
             1,
             "#f0f921"
            ]
           ],
           "sequentialminus": [
            [
             0,
             "#0d0887"
            ],
            [
             0.1111111111111111,
             "#46039f"
            ],
            [
             0.2222222222222222,
             "#7201a8"
            ],
            [
             0.3333333333333333,
             "#9c179e"
            ],
            [
             0.4444444444444444,
             "#bd3786"
            ],
            [
             0.5555555555555556,
             "#d8576b"
            ],
            [
             0.6666666666666666,
             "#ed7953"
            ],
            [
             0.7777777777777778,
             "#fb9f3a"
            ],
            [
             0.8888888888888888,
             "#fdca26"
            ],
            [
             1,
             "#f0f921"
            ]
           ]
          },
          "colorway": [
           "#636efa",
           "#EF553B",
           "#00cc96",
           "#ab63fa",
           "#FFA15A",
           "#19d3f3",
           "#FF6692",
           "#B6E880",
           "#FF97FF",
           "#FECB52"
          ],
          "font": {
           "color": "#2a3f5f"
          },
          "geo": {
           "bgcolor": "white",
           "lakecolor": "white",
           "landcolor": "#E5ECF6",
           "showlakes": true,
           "showland": true,
           "subunitcolor": "white"
          },
          "hoverlabel": {
           "align": "left"
          },
          "hovermode": "closest",
          "mapbox": {
           "style": "light"
          },
          "paper_bgcolor": "white",
          "plot_bgcolor": "#E5ECF6",
          "polar": {
           "angularaxis": {
            "gridcolor": "white",
            "linecolor": "white",
            "ticks": ""
           },
           "bgcolor": "#E5ECF6",
           "radialaxis": {
            "gridcolor": "white",
            "linecolor": "white",
            "ticks": ""
           }
          },
          "scene": {
           "xaxis": {
            "backgroundcolor": "#E5ECF6",
            "gridcolor": "white",
            "gridwidth": 2,
            "linecolor": "white",
            "showbackground": true,
            "ticks": "",
            "zerolinecolor": "white"
           },
           "yaxis": {
            "backgroundcolor": "#E5ECF6",
            "gridcolor": "white",
            "gridwidth": 2,
            "linecolor": "white",
            "showbackground": true,
            "ticks": "",
            "zerolinecolor": "white"
           },
           "zaxis": {
            "backgroundcolor": "#E5ECF6",
            "gridcolor": "white",
            "gridwidth": 2,
            "linecolor": "white",
            "showbackground": true,
            "ticks": "",
            "zerolinecolor": "white"
           }
          },
          "shapedefaults": {
           "line": {
            "color": "#2a3f5f"
           }
          },
          "ternary": {
           "aaxis": {
            "gridcolor": "white",
            "linecolor": "white",
            "ticks": ""
           },
           "baxis": {
            "gridcolor": "white",
            "linecolor": "white",
            "ticks": ""
           },
           "bgcolor": "#E5ECF6",
           "caxis": {
            "gridcolor": "white",
            "linecolor": "white",
            "ticks": ""
           }
          },
          "title": {
           "x": 0.05
          },
          "xaxis": {
           "automargin": true,
           "gridcolor": "white",
           "linecolor": "white",
           "ticks": "",
           "title": {
            "standoff": 15
           },
           "zerolinecolor": "white",
           "zerolinewidth": 2
          },
          "yaxis": {
           "automargin": true,
           "gridcolor": "white",
           "linecolor": "white",
           "ticks": "",
           "title": {
            "standoff": 15
           },
           "zerolinecolor": "white",
           "zerolinewidth": 2
          }
         }
        },
        "title": {
         "text": "Stress Level Distribution by Mood Score"
        },
        "xaxis": {
         "anchor": "y",
         "domain": [
          0,
          1
         ],
         "title": {
          "text": "Mood Score"
         }
        },
        "yaxis": {
         "anchor": "x",
         "domain": [
          0,
          1
         ],
         "title": {
          "text": "Stress Level"
         }
        }
       }
      }
     },
     "metadata": {},
     "output_type": "display_data"
    },
    {
     "name": "stdout",
     "output_type": "stream",
     "text": [
      "Scatterplot ( Exercise vs Mood Score )\n"
     ]
    },
    {
     "data": {
      "application/vnd.plotly.v1+json": {
       "config": {
        "plotlyServerURL": "https://plot.ly"
       },
       "data": [
        {
         "hovertemplate": "Type=Weekend<br>Exercise (min)=%{x}<br>Mood Score=%{y}<br>Stress Level=%{marker.size}<extra></extra>",
         "legendgroup": "Weekend",
         "marker": {
          "color": "#636efa",
          "size": {
           "bdata": "CAkBBgYFCAMEAQoDCAQCCgcDBAgCAQEICAcCAQkBBQkG",
           "dtype": "i1"
          },
          "sizemode": "area",
          "sizeref": 0.025,
          "symbol": "circle"
         },
         "mode": "markers",
         "name": "Weekend",
         "orientation": "v",
         "showlegend": true,
         "type": "scatter",
         "x": {
          "bdata": "Djo8NTwLIh0bByIEHRk6OwgVJjgnPC4kBykpFjI1IREA",
          "dtype": "i1"
         },
         "xaxis": "x",
         "y": {
          "bdata": "BAMBAgQCAwQGCQYDAwkCAgkCAgQBBQICAQoHBQcBBQUF",
          "dtype": "i1"
         },
         "yaxis": "y"
        },
        {
         "hovertemplate": "Type=Sick Day<br>Exercise (min)=%{x}<br>Mood Score=%{y}<br>Stress Level=%{marker.size}<extra></extra>",
         "legendgroup": "Sick Day",
         "marker": {
          "color": "#EF553B",
          "size": {
           "bdata": "BgkFBQIKBggBBQUECQIGCAECAwQEAggE",
           "dtype": "i1"
          },
          "sizemode": "area",
          "sizeref": 0.025,
          "symbol": "circle"
         },
         "mode": "markers",
         "name": "Sick Day",
         "orientation": "v",
         "showlegend": true,
         "type": "scatter",
         "x": {
          "bdata": "LCgHHBsBKhMCAg4JJQsXJzkTORQ1Mw4c",
          "dtype": "i1"
         },
         "xaxis": "x",
         "y": {
          "bdata": "CggHCAgGBQkICQgGBwcKCAQJBAYBAwgC",
          "dtype": "i1"
         },
         "yaxis": "y"
        },
        {
         "hovertemplate": "Type=Holiday<br>Exercise (min)=%{x}<br>Mood Score=%{y}<br>Stress Level=%{marker.size}<extra></extra>",
         "legendgroup": "Holiday",
         "marker": {
          "color": "#00cc96",
          "size": {
           "bdata": "BwIFBgEJCgcGBgMBCgkE",
           "dtype": "i1"
          },
          "sizemode": "area",
          "sizeref": 0.025,
          "symbol": "circle"
         },
         "mode": "markers",
         "name": "Holiday",
         "orientation": "v",
         "showlegend": true,
         "type": "scatter",
         "x": {
          "bdata": "JC4xMCclMBUwGREPOg0p",
          "dtype": "i1"
         },
         "xaxis": "x",
         "y": {
          "bdata": "BwECBAICAQYCBQcDBwkC",
          "dtype": "i1"
         },
         "yaxis": "y"
        },
        {
         "hovertemplate": "Type=Workday<br>Exercise (min)=%{x}<br>Mood Score=%{y}<br>Stress Level=%{marker.size}<extra></extra>",
         "legendgroup": "Workday",
         "marker": {
          "color": "#ab63fa",
          "size": {
           "bdata": "CgYIBAkCCAgEAgEIBQcHAgkFCQgJCAYBBQICCQ==",
           "dtype": "i1"
          },
          "sizemode": "area",
          "sizeref": 0.025,
          "symbol": "circle"
         },
         "mode": "markers",
         "name": "Workday",
         "orientation": "v",
         "showlegend": true,
         "type": "scatter",
         "x": {
          "bdata": "MQIiBTQiAhAFMQ0fOjgFFSM3HjYbFxk3EDkRHg==",
          "dtype": "i1"
         },
         "xaxis": "x",
         "y": {
          "bdata": "BAEECAMECQIDBQoJCQQDBwoHAwMDCAIIAQEKCg==",
          "dtype": "i1"
         },
         "yaxis": "y"
        }
       ],
       "layout": {
        "legend": {
         "itemsizing": "constant",
         "title": {
          "text": "Type"
         },
         "tracegroupgap": 0
        },
        "template": {
         "data": {
          "bar": [
           {
            "error_x": {
             "color": "#2a3f5f"
            },
            "error_y": {
             "color": "#2a3f5f"
            },
            "marker": {
             "line": {
              "color": "#E5ECF6",
              "width": 0.5
             },
             "pattern": {
              "fillmode": "overlay",
              "size": 10,
              "solidity": 0.2
             }
            },
            "type": "bar"
           }
          ],
          "barpolar": [
           {
            "marker": {
             "line": {
              "color": "#E5ECF6",
              "width": 0.5
             },
             "pattern": {
              "fillmode": "overlay",
              "size": 10,
              "solidity": 0.2
             }
            },
            "type": "barpolar"
           }
          ],
          "carpet": [
           {
            "aaxis": {
             "endlinecolor": "#2a3f5f",
             "gridcolor": "white",
             "linecolor": "white",
             "minorgridcolor": "white",
             "startlinecolor": "#2a3f5f"
            },
            "baxis": {
             "endlinecolor": "#2a3f5f",
             "gridcolor": "white",
             "linecolor": "white",
             "minorgridcolor": "white",
             "startlinecolor": "#2a3f5f"
            },
            "type": "carpet"
           }
          ],
          "choropleth": [
           {
            "colorbar": {
             "outlinewidth": 0,
             "ticks": ""
            },
            "type": "choropleth"
           }
          ],
          "contour": [
           {
            "colorbar": {
             "outlinewidth": 0,
             "ticks": ""
            },
            "colorscale": [
             [
              0,
              "#0d0887"
             ],
             [
              0.1111111111111111,
              "#46039f"
             ],
             [
              0.2222222222222222,
              "#7201a8"
             ],
             [
              0.3333333333333333,
              "#9c179e"
             ],
             [
              0.4444444444444444,
              "#bd3786"
             ],
             [
              0.5555555555555556,
              "#d8576b"
             ],
             [
              0.6666666666666666,
              "#ed7953"
             ],
             [
              0.7777777777777778,
              "#fb9f3a"
             ],
             [
              0.8888888888888888,
              "#fdca26"
             ],
             [
              1,
              "#f0f921"
             ]
            ],
            "type": "contour"
           }
          ],
          "contourcarpet": [
           {
            "colorbar": {
             "outlinewidth": 0,
             "ticks": ""
            },
            "type": "contourcarpet"
           }
          ],
          "heatmap": [
           {
            "colorbar": {
             "outlinewidth": 0,
             "ticks": ""
            },
            "colorscale": [
             [
              0,
              "#0d0887"
             ],
             [
              0.1111111111111111,
              "#46039f"
             ],
             [
              0.2222222222222222,
              "#7201a8"
             ],
             [
              0.3333333333333333,
              "#9c179e"
             ],
             [
              0.4444444444444444,
              "#bd3786"
             ],
             [
              0.5555555555555556,
              "#d8576b"
             ],
             [
              0.6666666666666666,
              "#ed7953"
             ],
             [
              0.7777777777777778,
              "#fb9f3a"
             ],
             [
              0.8888888888888888,
              "#fdca26"
             ],
             [
              1,
              "#f0f921"
             ]
            ],
            "type": "heatmap"
           }
          ],
          "histogram": [
           {
            "marker": {
             "pattern": {
              "fillmode": "overlay",
              "size": 10,
              "solidity": 0.2
             }
            },
            "type": "histogram"
           }
          ],
          "histogram2d": [
           {
            "colorbar": {
             "outlinewidth": 0,
             "ticks": ""
            },
            "colorscale": [
             [
              0,
              "#0d0887"
             ],
             [
              0.1111111111111111,
              "#46039f"
             ],
             [
              0.2222222222222222,
              "#7201a8"
             ],
             [
              0.3333333333333333,
              "#9c179e"
             ],
             [
              0.4444444444444444,
              "#bd3786"
             ],
             [
              0.5555555555555556,
              "#d8576b"
             ],
             [
              0.6666666666666666,
              "#ed7953"
             ],
             [
              0.7777777777777778,
              "#fb9f3a"
             ],
             [
              0.8888888888888888,
              "#fdca26"
             ],
             [
              1,
              "#f0f921"
             ]
            ],
            "type": "histogram2d"
           }
          ],
          "histogram2dcontour": [
           {
            "colorbar": {
             "outlinewidth": 0,
             "ticks": ""
            },
            "colorscale": [
             [
              0,
              "#0d0887"
             ],
             [
              0.1111111111111111,
              "#46039f"
             ],
             [
              0.2222222222222222,
              "#7201a8"
             ],
             [
              0.3333333333333333,
              "#9c179e"
             ],
             [
              0.4444444444444444,
              "#bd3786"
             ],
             [
              0.5555555555555556,
              "#d8576b"
             ],
             [
              0.6666666666666666,
              "#ed7953"
             ],
             [
              0.7777777777777778,
              "#fb9f3a"
             ],
             [
              0.8888888888888888,
              "#fdca26"
             ],
             [
              1,
              "#f0f921"
             ]
            ],
            "type": "histogram2dcontour"
           }
          ],
          "mesh3d": [
           {
            "colorbar": {
             "outlinewidth": 0,
             "ticks": ""
            },
            "type": "mesh3d"
           }
          ],
          "parcoords": [
           {
            "line": {
             "colorbar": {
              "outlinewidth": 0,
              "ticks": ""
             }
            },
            "type": "parcoords"
           }
          ],
          "pie": [
           {
            "automargin": true,
            "type": "pie"
           }
          ],
          "scatter": [
           {
            "fillpattern": {
             "fillmode": "overlay",
             "size": 10,
             "solidity": 0.2
            },
            "type": "scatter"
           }
          ],
          "scatter3d": [
           {
            "line": {
             "colorbar": {
              "outlinewidth": 0,
              "ticks": ""
             }
            },
            "marker": {
             "colorbar": {
              "outlinewidth": 0,
              "ticks": ""
             }
            },
            "type": "scatter3d"
           }
          ],
          "scattercarpet": [
           {
            "marker": {
             "colorbar": {
              "outlinewidth": 0,
              "ticks": ""
             }
            },
            "type": "scattercarpet"
           }
          ],
          "scattergeo": [
           {
            "marker": {
             "colorbar": {
              "outlinewidth": 0,
              "ticks": ""
             }
            },
            "type": "scattergeo"
           }
          ],
          "scattergl": [
           {
            "marker": {
             "colorbar": {
              "outlinewidth": 0,
              "ticks": ""
             }
            },
            "type": "scattergl"
           }
          ],
          "scattermap": [
           {
            "marker": {
             "colorbar": {
              "outlinewidth": 0,
              "ticks": ""
             }
            },
            "type": "scattermap"
           }
          ],
          "scattermapbox": [
           {
            "marker": {
             "colorbar": {
              "outlinewidth": 0,
              "ticks": ""
             }
            },
            "type": "scattermapbox"
           }
          ],
          "scatterpolar": [
           {
            "marker": {
             "colorbar": {
              "outlinewidth": 0,
              "ticks": ""
             }
            },
            "type": "scatterpolar"
           }
          ],
          "scatterpolargl": [
           {
            "marker": {
             "colorbar": {
              "outlinewidth": 0,
              "ticks": ""
             }
            },
            "type": "scatterpolargl"
           }
          ],
          "scatterternary": [
           {
            "marker": {
             "colorbar": {
              "outlinewidth": 0,
              "ticks": ""
             }
            },
            "type": "scatterternary"
           }
          ],
          "surface": [
           {
            "colorbar": {
             "outlinewidth": 0,
             "ticks": ""
            },
            "colorscale": [
             [
              0,
              "#0d0887"
             ],
             [
              0.1111111111111111,
              "#46039f"
             ],
             [
              0.2222222222222222,
              "#7201a8"
             ],
             [
              0.3333333333333333,
              "#9c179e"
             ],
             [
              0.4444444444444444,
              "#bd3786"
             ],
             [
              0.5555555555555556,
              "#d8576b"
             ],
             [
              0.6666666666666666,
              "#ed7953"
             ],
             [
              0.7777777777777778,
              "#fb9f3a"
             ],
             [
              0.8888888888888888,
              "#fdca26"
             ],
             [
              1,
              "#f0f921"
             ]
            ],
            "type": "surface"
           }
          ],
          "table": [
           {
            "cells": {
             "fill": {
              "color": "#EBF0F8"
             },
             "line": {
              "color": "white"
             }
            },
            "header": {
             "fill": {
              "color": "#C8D4E3"
             },
             "line": {
              "color": "white"
             }
            },
            "type": "table"
           }
          ]
         },
         "layout": {
          "annotationdefaults": {
           "arrowcolor": "#2a3f5f",
           "arrowhead": 0,
           "arrowwidth": 1
          },
          "autotypenumbers": "strict",
          "coloraxis": {
           "colorbar": {
            "outlinewidth": 0,
            "ticks": ""
           }
          },
          "colorscale": {
           "diverging": [
            [
             0,
             "#8e0152"
            ],
            [
             0.1,
             "#c51b7d"
            ],
            [
             0.2,
             "#de77ae"
            ],
            [
             0.3,
             "#f1b6da"
            ],
            [
             0.4,
             "#fde0ef"
            ],
            [
             0.5,
             "#f7f7f7"
            ],
            [
             0.6,
             "#e6f5d0"
            ],
            [
             0.7,
             "#b8e186"
            ],
            [
             0.8,
             "#7fbc41"
            ],
            [
             0.9,
             "#4d9221"
            ],
            [
             1,
             "#276419"
            ]
           ],
           "sequential": [
            [
             0,
             "#0d0887"
            ],
            [
             0.1111111111111111,
             "#46039f"
            ],
            [
             0.2222222222222222,
             "#7201a8"
            ],
            [
             0.3333333333333333,
             "#9c179e"
            ],
            [
             0.4444444444444444,
             "#bd3786"
            ],
            [
             0.5555555555555556,
             "#d8576b"
            ],
            [
             0.6666666666666666,
             "#ed7953"
            ],
            [
             0.7777777777777778,
             "#fb9f3a"
            ],
            [
             0.8888888888888888,
             "#fdca26"
            ],
            [
             1,
             "#f0f921"
            ]
           ],
           "sequentialminus": [
            [
             0,
             "#0d0887"
            ],
            [
             0.1111111111111111,
             "#46039f"
            ],
            [
             0.2222222222222222,
             "#7201a8"
            ],
            [
             0.3333333333333333,
             "#9c179e"
            ],
            [
             0.4444444444444444,
             "#bd3786"
            ],
            [
             0.5555555555555556,
             "#d8576b"
            ],
            [
             0.6666666666666666,
             "#ed7953"
            ],
            [
             0.7777777777777778,
             "#fb9f3a"
            ],
            [
             0.8888888888888888,
             "#fdca26"
            ],
            [
             1,
             "#f0f921"
            ]
           ]
          },
          "colorway": [
           "#636efa",
           "#EF553B",
           "#00cc96",
           "#ab63fa",
           "#FFA15A",
           "#19d3f3",
           "#FF6692",
           "#B6E880",
           "#FF97FF",
           "#FECB52"
          ],
          "font": {
           "color": "#2a3f5f"
          },
          "geo": {
           "bgcolor": "white",
           "lakecolor": "white",
           "landcolor": "#E5ECF6",
           "showlakes": true,
           "showland": true,
           "subunitcolor": "white"
          },
          "hoverlabel": {
           "align": "left"
          },
          "hovermode": "closest",
          "mapbox": {
           "style": "light"
          },
          "paper_bgcolor": "white",
          "plot_bgcolor": "#E5ECF6",
          "polar": {
           "angularaxis": {
            "gridcolor": "white",
            "linecolor": "white",
            "ticks": ""
           },
           "bgcolor": "#E5ECF6",
           "radialaxis": {
            "gridcolor": "white",
            "linecolor": "white",
            "ticks": ""
           }
          },
          "scene": {
           "xaxis": {
            "backgroundcolor": "#E5ECF6",
            "gridcolor": "white",
            "gridwidth": 2,
            "linecolor": "white",
            "showbackground": true,
            "ticks": "",
            "zerolinecolor": "white"
           },
           "yaxis": {
            "backgroundcolor": "#E5ECF6",
            "gridcolor": "white",
            "gridwidth": 2,
            "linecolor": "white",
            "showbackground": true,
            "ticks": "",
            "zerolinecolor": "white"
           },
           "zaxis": {
            "backgroundcolor": "#E5ECF6",
            "gridcolor": "white",
            "gridwidth": 2,
            "linecolor": "white",
            "showbackground": true,
            "ticks": "",
            "zerolinecolor": "white"
           }
          },
          "shapedefaults": {
           "line": {
            "color": "#2a3f5f"
           }
          },
          "ternary": {
           "aaxis": {
            "gridcolor": "white",
            "linecolor": "white",
            "ticks": ""
           },
           "baxis": {
            "gridcolor": "white",
            "linecolor": "white",
            "ticks": ""
           },
           "bgcolor": "#E5ECF6",
           "caxis": {
            "gridcolor": "white",
            "linecolor": "white",
            "ticks": ""
           }
          },
          "title": {
           "x": 0.05
          },
          "xaxis": {
           "automargin": true,
           "gridcolor": "white",
           "linecolor": "white",
           "ticks": "",
           "title": {
            "standoff": 15
           },
           "zerolinecolor": "white",
           "zerolinewidth": 2
          },
          "yaxis": {
           "automargin": true,
           "gridcolor": "white",
           "linecolor": "white",
           "ticks": "",
           "title": {
            "standoff": 15
           },
           "zerolinecolor": "white",
           "zerolinewidth": 2
          }
         }
        },
        "title": {
         "text": "Exercise vs Mood – Colored by Day Type, Sized by Stress"
        },
        "xaxis": {
         "anchor": "y",
         "domain": [
          0,
          1
         ],
         "title": {
          "text": "Exercise (min)"
         }
        },
        "yaxis": {
         "anchor": "x",
         "domain": [
          0,
          1
         ],
         "title": {
          "text": "Mood Score"
         }
        }
       }
      }
     },
     "metadata": {},
     "output_type": "display_data"
    },
    {
     "name": "stdout",
     "output_type": "stream",
     "text": [
      "Scatterplot ( Social Interactions vs Mood Score )\n"
     ]
    },
    {
     "data": {
      "application/vnd.plotly.v1+json": {
       "config": {
        "plotlyServerURL": "https://plot.ly"
       },
       "data": [
        {
         "hovertemplate": "Type=Weekend<br>Social Interactions=%{x}<br>Mood Score=%{y}<br>Sleep Hours=%{marker.size}<extra></extra>",
         "legendgroup": "Weekend",
         "marker": {
          "color": "#636efa",
          "size": {
           "bdata": "MzMzMzMzE0AzMzMzMzMhQAAAAAAAACFAMzMzMzMzIUAzMzMzMzMhQGZmZmZmZh5AmpmZmZmZG0DNzMzMzMweQGZmZmZmZhRAMzMzMzMzFUDNzMzMzMwgQDMzMzMzMx1AZmZmZmZmGkDNzMzMzMwSQAAAAAAAABZAzczMzMzMHEDNzMzMzMwYQJqZmZmZmRtAMzMzMzMzIUCamZmZmZkbQM3MzMzMzBZAzczMzMzMHkCamZmZmZkbQAAAAAAAABpAAAAAAAAAGEDNzMzMzMwSQDMzMzMzMyBAMzMzMzMzH0AAAAAAAAAgQAAAAAAAACJAzczMzMzMIUBmZmZmZmYWQM3MzMzMzB5A",
           "dtype": "f8"
          },
          "sizemode": "area",
          "sizeref": 0.0225,
          "symbol": "circle"
         },
         "mode": "markers",
         "name": "Weekend",
         "orientation": "v",
         "showlegend": true,
         "type": "scatter",
         "x": {
          "bdata": "AQAABAAEAAQFAwQAAwQEBAACAwAFAQEBAQQBAAUBAAQD",
          "dtype": "i1"
         },
         "xaxis": "x",
         "y": {
          "bdata": "BAMBAgQCAwQGCQYDAwkCAgkCAgQBBQICAQoHBQcBBQUF",
          "dtype": "i1"
         },
         "yaxis": "y"
        },
        {
         "hovertemplate": "Type=Sick Day<br>Social Interactions=%{x}<br>Mood Score=%{y}<br>Sleep Hours=%{marker.size}<extra></extra>",
         "legendgroup": "Sick Day",
         "marker": {
          "color": "#EF553B",
          "size": {
           "bdata": "MzMzMzMzF0AAAAAAAAAaQDMzMzMzMx1AmpmZmZmZIUAAAAAAAAAUQDMzMzMzMyBAmpmZmZmZEUAAAAAAAAAeQDMzMzMzMyFAzczMzMzMIEAzMzMzMzMhQM3MzMzMzBpAMzMzMzMzF0AzMzMzMzMfQJqZmZmZmR9AzczMzMzMGEAzMzMzMzMVQDMzMzMzMxlAZmZmZmZmIECamZmZmZkXQAAAAAAAAB5AzczMzMzMGkDNzMzMzMwaQDMzMzMzMyBA",
           "dtype": "f8"
          },
          "sizemode": "area",
          "sizeref": 0.0225,
          "symbol": "circle"
         },
         "mode": "markers",
         "name": "Sick Day",
         "orientation": "v",
         "showlegend": true,
         "type": "scatter",
         "x": {
          "bdata": "AAQDBQMBAAMABQECBAQFAQEABAQAAwAA",
          "dtype": "i1"
         },
         "xaxis": "x",
         "y": {
          "bdata": "CggHCAgGBQkICQgGBwcKCAQJBAYBAwgC",
          "dtype": "i1"
         },
         "yaxis": "y"
        },
        {
         "hovertemplate": "Type=Holiday<br>Social Interactions=%{x}<br>Mood Score=%{y}<br>Sleep Hours=%{marker.size}<extra></extra>",
         "legendgroup": "Holiday",
         "marker": {
          "color": "#00cc96",
          "size": {
           "bdata": "AAAAAAAAIkCamZmZmZkgQGZmZmZmZhZAZmZmZmZmGEAAAAAAAAAaQJqZmZmZmRtAZmZmZmZmHEAzMzMzMzMfQDMzMzMzMyBAMzMzMzMzG0AAAAAAAAAgQAAAAAAAABZAzczMzMzMFkDNzMzMzMwYQDMzMzMzMxdA",
           "dtype": "f8"
          },
          "sizemode": "area",
          "sizeref": 0.0225,
          "symbol": "circle"
         },
         "mode": "markers",
         "name": "Holiday",
         "orientation": "v",
         "showlegend": true,
         "type": "scatter",
         "x": {
          "bdata": "AwAEAgUBAwIFAQMEAQUA",
          "dtype": "i1"
         },
         "xaxis": "x",
         "y": {
          "bdata": "BwECBAICAQYCBQcDBwkC",
          "dtype": "i1"
         },
         "yaxis": "y"
        },
        {
         "hovertemplate": "Type=Workday<br>Social Interactions=%{x}<br>Mood Score=%{y}<br>Sleep Hours=%{marker.size}<extra></extra>",
         "legendgroup": "Workday",
         "marker": {
          "color": "#ab63fa",
          "size": {
           "bdata": "AAAAAAAAHkAzMzMzMzMgQJqZmZmZmSBAMzMzMzMzGUAzMzMzMzMhQM3MzMzMzBRAmpmZmZmZF0DNzMzMzMwQQDMzMzMzMyFAzczMzMzMEkAAAAAAAAAYQAAAAAAAAB5AzczMzMzMIECamZmZmZkVQM3MzMzMzBhAmpmZmZmZEUDNzMzMzMwSQGZmZmZmZhBAMzMzMzMzEUAAAAAAAAAhQGZmZmZmZhJAZmZmZmZmHkCamZmZmZkVQM3MzMzMzB5AZmZmZmZmIUDNzMzMzMwcQDMzMzMzMyFAZmZmZmZmHkA=",
           "dtype": "f8"
          },
          "sizemode": "area",
          "sizeref": 0.0225,
          "symbol": "circle"
         },
         "mode": "markers",
         "name": "Workday",
         "orientation": "v",
         "showlegend": true,
         "type": "scatter",
         "x": {
          "bdata": "AwEAAgAEBAUFAQEDAAABBAICAAIBBQQFAwQFAA==",
          "dtype": "i1"
         },
         "xaxis": "x",
         "y": {
          "bdata": "BAEECAMECQIDBQoJCQQDBwoHAwMDCAIIAQEKCg==",
          "dtype": "i1"
         },
         "yaxis": "y"
        }
       ],
       "layout": {
        "legend": {
         "itemsizing": "constant",
         "title": {
          "text": "Type"
         },
         "tracegroupgap": 0
        },
        "template": {
         "data": {
          "bar": [
           {
            "error_x": {
             "color": "#2a3f5f"
            },
            "error_y": {
             "color": "#2a3f5f"
            },
            "marker": {
             "line": {
              "color": "#E5ECF6",
              "width": 0.5
             },
             "pattern": {
              "fillmode": "overlay",
              "size": 10,
              "solidity": 0.2
             }
            },
            "type": "bar"
           }
          ],
          "barpolar": [
           {
            "marker": {
             "line": {
              "color": "#E5ECF6",
              "width": 0.5
             },
             "pattern": {
              "fillmode": "overlay",
              "size": 10,
              "solidity": 0.2
             }
            },
            "type": "barpolar"
           }
          ],
          "carpet": [
           {
            "aaxis": {
             "endlinecolor": "#2a3f5f",
             "gridcolor": "white",
             "linecolor": "white",
             "minorgridcolor": "white",
             "startlinecolor": "#2a3f5f"
            },
            "baxis": {
             "endlinecolor": "#2a3f5f",
             "gridcolor": "white",
             "linecolor": "white",
             "minorgridcolor": "white",
             "startlinecolor": "#2a3f5f"
            },
            "type": "carpet"
           }
          ],
          "choropleth": [
           {
            "colorbar": {
             "outlinewidth": 0,
             "ticks": ""
            },
            "type": "choropleth"
           }
          ],
          "contour": [
           {
            "colorbar": {
             "outlinewidth": 0,
             "ticks": ""
            },
            "colorscale": [
             [
              0,
              "#0d0887"
             ],
             [
              0.1111111111111111,
              "#46039f"
             ],
             [
              0.2222222222222222,
              "#7201a8"
             ],
             [
              0.3333333333333333,
              "#9c179e"
             ],
             [
              0.4444444444444444,
              "#bd3786"
             ],
             [
              0.5555555555555556,
              "#d8576b"
             ],
             [
              0.6666666666666666,
              "#ed7953"
             ],
             [
              0.7777777777777778,
              "#fb9f3a"
             ],
             [
              0.8888888888888888,
              "#fdca26"
             ],
             [
              1,
              "#f0f921"
             ]
            ],
            "type": "contour"
           }
          ],
          "contourcarpet": [
           {
            "colorbar": {
             "outlinewidth": 0,
             "ticks": ""
            },
            "type": "contourcarpet"
           }
          ],
          "heatmap": [
           {
            "colorbar": {
             "outlinewidth": 0,
             "ticks": ""
            },
            "colorscale": [
             [
              0,
              "#0d0887"
             ],
             [
              0.1111111111111111,
              "#46039f"
             ],
             [
              0.2222222222222222,
              "#7201a8"
             ],
             [
              0.3333333333333333,
              "#9c179e"
             ],
             [
              0.4444444444444444,
              "#bd3786"
             ],
             [
              0.5555555555555556,
              "#d8576b"
             ],
             [
              0.6666666666666666,
              "#ed7953"
             ],
             [
              0.7777777777777778,
              "#fb9f3a"
             ],
             [
              0.8888888888888888,
              "#fdca26"
             ],
             [
              1,
              "#f0f921"
             ]
            ],
            "type": "heatmap"
           }
          ],
          "histogram": [
           {
            "marker": {
             "pattern": {
              "fillmode": "overlay",
              "size": 10,
              "solidity": 0.2
             }
            },
            "type": "histogram"
           }
          ],
          "histogram2d": [
           {
            "colorbar": {
             "outlinewidth": 0,
             "ticks": ""
            },
            "colorscale": [
             [
              0,
              "#0d0887"
             ],
             [
              0.1111111111111111,
              "#46039f"
             ],
             [
              0.2222222222222222,
              "#7201a8"
             ],
             [
              0.3333333333333333,
              "#9c179e"
             ],
             [
              0.4444444444444444,
              "#bd3786"
             ],
             [
              0.5555555555555556,
              "#d8576b"
             ],
             [
              0.6666666666666666,
              "#ed7953"
             ],
             [
              0.7777777777777778,
              "#fb9f3a"
             ],
             [
              0.8888888888888888,
              "#fdca26"
             ],
             [
              1,
              "#f0f921"
             ]
            ],
            "type": "histogram2d"
           }
          ],
          "histogram2dcontour": [
           {
            "colorbar": {
             "outlinewidth": 0,
             "ticks": ""
            },
            "colorscale": [
             [
              0,
              "#0d0887"
             ],
             [
              0.1111111111111111,
              "#46039f"
             ],
             [
              0.2222222222222222,
              "#7201a8"
             ],
             [
              0.3333333333333333,
              "#9c179e"
             ],
             [
              0.4444444444444444,
              "#bd3786"
             ],
             [
              0.5555555555555556,
              "#d8576b"
             ],
             [
              0.6666666666666666,
              "#ed7953"
             ],
             [
              0.7777777777777778,
              "#fb9f3a"
             ],
             [
              0.8888888888888888,
              "#fdca26"
             ],
             [
              1,
              "#f0f921"
             ]
            ],
            "type": "histogram2dcontour"
           }
          ],
          "mesh3d": [
           {
            "colorbar": {
             "outlinewidth": 0,
             "ticks": ""
            },
            "type": "mesh3d"
           }
          ],
          "parcoords": [
           {
            "line": {
             "colorbar": {
              "outlinewidth": 0,
              "ticks": ""
             }
            },
            "type": "parcoords"
           }
          ],
          "pie": [
           {
            "automargin": true,
            "type": "pie"
           }
          ],
          "scatter": [
           {
            "fillpattern": {
             "fillmode": "overlay",
             "size": 10,
             "solidity": 0.2
            },
            "type": "scatter"
           }
          ],
          "scatter3d": [
           {
            "line": {
             "colorbar": {
              "outlinewidth": 0,
              "ticks": ""
             }
            },
            "marker": {
             "colorbar": {
              "outlinewidth": 0,
              "ticks": ""
             }
            },
            "type": "scatter3d"
           }
          ],
          "scattercarpet": [
           {
            "marker": {
             "colorbar": {
              "outlinewidth": 0,
              "ticks": ""
             }
            },
            "type": "scattercarpet"
           }
          ],
          "scattergeo": [
           {
            "marker": {
             "colorbar": {
              "outlinewidth": 0,
              "ticks": ""
             }
            },
            "type": "scattergeo"
           }
          ],
          "scattergl": [
           {
            "marker": {
             "colorbar": {
              "outlinewidth": 0,
              "ticks": ""
             }
            },
            "type": "scattergl"
           }
          ],
          "scattermap": [
           {
            "marker": {
             "colorbar": {
              "outlinewidth": 0,
              "ticks": ""
             }
            },
            "type": "scattermap"
           }
          ],
          "scattermapbox": [
           {
            "marker": {
             "colorbar": {
              "outlinewidth": 0,
              "ticks": ""
             }
            },
            "type": "scattermapbox"
           }
          ],
          "scatterpolar": [
           {
            "marker": {
             "colorbar": {
              "outlinewidth": 0,
              "ticks": ""
             }
            },
            "type": "scatterpolar"
           }
          ],
          "scatterpolargl": [
           {
            "marker": {
             "colorbar": {
              "outlinewidth": 0,
              "ticks": ""
             }
            },
            "type": "scatterpolargl"
           }
          ],
          "scatterternary": [
           {
            "marker": {
             "colorbar": {
              "outlinewidth": 0,
              "ticks": ""
             }
            },
            "type": "scatterternary"
           }
          ],
          "surface": [
           {
            "colorbar": {
             "outlinewidth": 0,
             "ticks": ""
            },
            "colorscale": [
             [
              0,
              "#0d0887"
             ],
             [
              0.1111111111111111,
              "#46039f"
             ],
             [
              0.2222222222222222,
              "#7201a8"
             ],
             [
              0.3333333333333333,
              "#9c179e"
             ],
             [
              0.4444444444444444,
              "#bd3786"
             ],
             [
              0.5555555555555556,
              "#d8576b"
             ],
             [
              0.6666666666666666,
              "#ed7953"
             ],
             [
              0.7777777777777778,
              "#fb9f3a"
             ],
             [
              0.8888888888888888,
              "#fdca26"
             ],
             [
              1,
              "#f0f921"
             ]
            ],
            "type": "surface"
           }
          ],
          "table": [
           {
            "cells": {
             "fill": {
              "color": "#EBF0F8"
             },
             "line": {
              "color": "white"
             }
            },
            "header": {
             "fill": {
              "color": "#C8D4E3"
             },
             "line": {
              "color": "white"
             }
            },
            "type": "table"
           }
          ]
         },
         "layout": {
          "annotationdefaults": {
           "arrowcolor": "#2a3f5f",
           "arrowhead": 0,
           "arrowwidth": 1
          },
          "autotypenumbers": "strict",
          "coloraxis": {
           "colorbar": {
            "outlinewidth": 0,
            "ticks": ""
           }
          },
          "colorscale": {
           "diverging": [
            [
             0,
             "#8e0152"
            ],
            [
             0.1,
             "#c51b7d"
            ],
            [
             0.2,
             "#de77ae"
            ],
            [
             0.3,
             "#f1b6da"
            ],
            [
             0.4,
             "#fde0ef"
            ],
            [
             0.5,
             "#f7f7f7"
            ],
            [
             0.6,
             "#e6f5d0"
            ],
            [
             0.7,
             "#b8e186"
            ],
            [
             0.8,
             "#7fbc41"
            ],
            [
             0.9,
             "#4d9221"
            ],
            [
             1,
             "#276419"
            ]
           ],
           "sequential": [
            [
             0,
             "#0d0887"
            ],
            [
             0.1111111111111111,
             "#46039f"
            ],
            [
             0.2222222222222222,
             "#7201a8"
            ],
            [
             0.3333333333333333,
             "#9c179e"
            ],
            [
             0.4444444444444444,
             "#bd3786"
            ],
            [
             0.5555555555555556,
             "#d8576b"
            ],
            [
             0.6666666666666666,
             "#ed7953"
            ],
            [
             0.7777777777777778,
             "#fb9f3a"
            ],
            [
             0.8888888888888888,
             "#fdca26"
            ],
            [
             1,
             "#f0f921"
            ]
           ],
           "sequentialminus": [
            [
             0,
             "#0d0887"
            ],
            [
             0.1111111111111111,
             "#46039f"
            ],
            [
             0.2222222222222222,
             "#7201a8"
            ],
            [
             0.3333333333333333,
             "#9c179e"
            ],
            [
             0.4444444444444444,
             "#bd3786"
            ],
            [
             0.5555555555555556,
             "#d8576b"
            ],
            [
             0.6666666666666666,
             "#ed7953"
            ],
            [
             0.7777777777777778,
             "#fb9f3a"
            ],
            [
             0.8888888888888888,
             "#fdca26"
            ],
            [
             1,
             "#f0f921"
            ]
           ]
          },
          "colorway": [
           "#636efa",
           "#EF553B",
           "#00cc96",
           "#ab63fa",
           "#FFA15A",
           "#19d3f3",
           "#FF6692",
           "#B6E880",
           "#FF97FF",
           "#FECB52"
          ],
          "font": {
           "color": "#2a3f5f"
          },
          "geo": {
           "bgcolor": "white",
           "lakecolor": "white",
           "landcolor": "#E5ECF6",
           "showlakes": true,
           "showland": true,
           "subunitcolor": "white"
          },
          "hoverlabel": {
           "align": "left"
          },
          "hovermode": "closest",
          "mapbox": {
           "style": "light"
          },
          "paper_bgcolor": "white",
          "plot_bgcolor": "#E5ECF6",
          "polar": {
           "angularaxis": {
            "gridcolor": "white",
            "linecolor": "white",
            "ticks": ""
           },
           "bgcolor": "#E5ECF6",
           "radialaxis": {
            "gridcolor": "white",
            "linecolor": "white",
            "ticks": ""
           }
          },
          "scene": {
           "xaxis": {
            "backgroundcolor": "#E5ECF6",
            "gridcolor": "white",
            "gridwidth": 2,
            "linecolor": "white",
            "showbackground": true,
            "ticks": "",
            "zerolinecolor": "white"
           },
           "yaxis": {
            "backgroundcolor": "#E5ECF6",
            "gridcolor": "white",
            "gridwidth": 2,
            "linecolor": "white",
            "showbackground": true,
            "ticks": "",
            "zerolinecolor": "white"
           },
           "zaxis": {
            "backgroundcolor": "#E5ECF6",
            "gridcolor": "white",
            "gridwidth": 2,
            "linecolor": "white",
            "showbackground": true,
            "ticks": "",
            "zerolinecolor": "white"
           }
          },
          "shapedefaults": {
           "line": {
            "color": "#2a3f5f"
           }
          },
          "ternary": {
           "aaxis": {
            "gridcolor": "white",
            "linecolor": "white",
            "ticks": ""
           },
           "baxis": {
            "gridcolor": "white",
            "linecolor": "white",
            "ticks": ""
           },
           "bgcolor": "#E5ECF6",
           "caxis": {
            "gridcolor": "white",
            "linecolor": "white",
            "ticks": ""
           }
          },
          "title": {
           "x": 0.05
          },
          "xaxis": {
           "automargin": true,
           "gridcolor": "white",
           "linecolor": "white",
           "ticks": "",
           "title": {
            "standoff": 15
           },
           "zerolinecolor": "white",
           "zerolinewidth": 2
          },
          "yaxis": {
           "automargin": true,
           "gridcolor": "white",
           "linecolor": "white",
           "ticks": "",
           "title": {
            "standoff": 15
           },
           "zerolinecolor": "white",
           "zerolinewidth": 2
          }
         }
        },
        "title": {
         "text": "Social Interactions vs Mood – Colored by Day Type, Sized by Sleep"
        },
        "xaxis": {
         "anchor": "y",
         "domain": [
          0,
          1
         ],
         "title": {
          "text": "Social Interactions"
         }
        },
        "yaxis": {
         "anchor": "x",
         "domain": [
          0,
          1
         ],
         "title": {
          "text": "Mood Score"
         }
        }
       }
      }
     },
     "metadata": {},
     "output_type": "display_data"
    }
   ],
   "source": [
    "# Sleep Hours vs Mood Score\n",
    "print(\"Boxplot ( Sleep Hours vs Mood Score )\")\n",
    "px.box(df, x=\"Mood Score\", y=\"Sleep Hours\", color=\"Type\", points=\"all\",\n",
    "       title=\"Sleep Hours Distribution by Mood Score\").show()\n",
    "\n",
    "\n",
    "# Stress Level vs Mood Score\n",
    "print(\"Boxplot ( Stress Level vs Mood Score )\")\n",
    "px.box(df, x=\"Mood Score\", y=\"Stress Level\", color=\"Type\", points=\"all\",\n",
    "       title=\"Stress Level Distribution by Mood Score\").show()\n",
    "\n",
    "\n",
    "# Exercise vs Mood Score\n",
    "print(\"Scatterplot ( Exercise vs Mood Score )\")\n",
    "px.scatter(df, x=\"Exercise (min)\", y=\"Mood Score\", color=\"Type\", size=\"Stress Level\",\n",
    "           title=\"Exercise vs Mood – Colored by Day Type, Sized by Stress\").show()\n",
    "\n",
    "\n",
    "# Social Interactions vs Mood Score\n",
    "print(\"Scatterplot ( Social Interactions vs Mood Score )\")\n",
    "px.scatter(df, x=\"Social Interactions\", y=\"Mood Score\", color=\"Type\", size=\"Sleep Hours\",\n",
    "           title=\"Social Interactions vs Mood – Colored by Day Type, Sized by Sleep\").show()"
   ]
  },
  {
   "cell_type": "markdown",
   "id": "91bb3783",
   "metadata": {},
   "source": [
    "### 📌 **Observation**\n",
    "\n",
    "The behavioral analysis reveals key relationships between ``Mood Score`` and several lifestyle factors:\n",
    "\n",
    "- The boxplots show that ``Sleep Hours`` and ``Stress Level`` vary significantly across mood levels.  \n",
    "  Higher mood scores tend to align with ``longer sleep`` and ``lower stress``, especially on ``Weekends`` and ``Holidays``.\n",
    "\n",
    "- The scatter plots highlight positive correlations between ``Exercise (min)`` and ``Mood Score``, with ``lower stress`` amplifying this effect.  \n",
    "  Similarly, ``Social Interactions`` appear to support better mood, particularly when paired with ``adequate sleep``.\n",
    "\n",
    "These patterns suggest that ``sleep``, ``exercise``, ``stress management``, and ``social connection`` are strong behavioral drivers of emotional well-being.  \n",
    "They provide actionable insights for designing wellness app features that promote ``restful routines``, ``active lifestyles``, and ``social engagement``."
   ]
  },
  {
   "cell_type": "markdown",
   "id": "772a1077",
   "metadata": {},
   "source": [
    "## **📊 Step 4: Interactivity Layer**\n",
    "\n",
    "In this step, we will enhance the report with interactive features that allow users to filter the data by `Year`, `Category`, and `Type`.\n",
    "\n",
    "We will also enable `hover tooltips` to display detailed insights for each entry, making the visualizations more informative and user-friendly.\n",
    "\n",
    "This layer supports exploratory analysis and empowers product and strategy teams to investigate specific behavioral patterns.\n"
   ]
  },
  {
   "cell_type": "code",
   "execution_count": 373,
   "id": "d42033a5",
   "metadata": {},
   "outputs": [
    {
     "data": {
      "application/vnd.plotly.v1+json": {
       "config": {
        "plotlyServerURL": "https://plot.ly"
       },
       "data": [
        {
         "customdata": [
          [
           "2016-03-11T00:00:00",
           7.5,
           10,
           3,
           "Routine",
           "Felt productive"
          ]
         ],
         "hovertemplate": "Type=Workday<br>Year=2016<br>Exercise (min)=%{x}<br>Mood Score=%{y}<br>Date=%{customdata[0]}<br>Sleep Hours=%{customdata[1]}<br>Stress Level=%{customdata[2]}<br>Social Interactions=%{customdata[3]}<br>Category=%{customdata[4]}<br>Notes=%{customdata[5]}<extra></extra>",
         "legendgroup": "Workday",
         "marker": {
          "color": "#636efa",
          "symbol": "circle"
         },
         "mode": "markers",
         "name": "Workday",
         "orientation": "v",
         "showlegend": true,
         "type": "scatter",
         "x": {
          "bdata": "MQ==",
          "dtype": "i1"
         },
         "xaxis": "x",
         "y": {
          "bdata": "BA==",
          "dtype": "i1"
         },
         "yaxis": "y"
        },
        {
         "customdata": [
          [
           "2017-04-14T00:00:00",
           4.6,
           9,
           1,
           "Low",
           "Skipped exercise"
          ],
          [
           "2017-03-16T00:00:00",
           8.7,
           5,
           3,
           "Peak",
           "Busy day"
          ]
         ],
         "hovertemplate": "Type=Workday<br>Year=2017<br>Exercise (min)=%{x}<br>Mood Score=%{y}<br>Date=%{customdata[0]}<br>Sleep Hours=%{customdata[1]}<br>Stress Level=%{customdata[2]}<br>Social Interactions=%{customdata[3]}<br>Category=%{customdata[4]}<br>Notes=%{customdata[5]}<extra></extra>",
         "legendgroup": "Workday",
         "marker": {
          "color": "#636efa",
          "symbol": "circle"
         },
         "mode": "markers",
         "name": "Workday",
         "orientation": "v",
         "showlegend": false,
         "type": "scatter",
         "x": {
          "bdata": "GxA=",
          "dtype": "i1"
         },
         "xaxis": "x2",
         "y": {
          "bdata": "AwE=",
          "dtype": "i1"
         },
         "yaxis": "y2"
        },
        {
         "customdata": [
          [
           "2018-03-01T00:00:00",
           8.6,
           9,
           0,
           "Recovery",
           "Low motivation"
          ],
          [
           "2018-03-06T00:00:00",
           4.7,
           9,
           2,
           "Low",
           "Anxious morning"
          ],
          [
           "2018-12-27T00:00:00",
           7.2,
           2,
           4,
           "Recovery",
           "Low motivation"
          ],
          [
           "2018-06-13T00:00:00",
           4.7,
           2,
           1,
           "Routine",
           "Low motivation"
          ],
          [
           "2018-09-26T00:00:00",
           8.3,
           8,
           0,
           "Routine",
           "Slept well"
          ]
         ],
         "hovertemplate": "Type=Workday<br>Year=2018<br>Exercise (min)=%{x}<br>Mood Score=%{y}<br>Date=%{customdata[0]}<br>Sleep Hours=%{customdata[1]}<br>Stress Level=%{customdata[2]}<br>Social Interactions=%{customdata[3]}<br>Category=%{customdata[4]}<br>Notes=%{customdata[5]}<extra></extra>",
         "legendgroup": "Workday",
         "marker": {
          "color": "#636efa",
          "symbol": "circle"
         },
         "mode": "markers",
         "name": "Workday",
         "orientation": "v",
         "showlegend": false,
         "type": "scatter",
         "x": {
          "bdata": "NCM5MSI=",
          "dtype": "i1"
         },
         "xaxis": "x3",
         "y": {
          "bdata": "AwoBBQQ=",
          "dtype": "i1"
         },
         "yaxis": "y3"
        },
        {
         "customdata": [
          [
           "2019-10-31T00:00:00",
           5.4,
           7,
           0,
           "Routine",
           "Distracted"
          ],
          [
           "2019-08-26T00:00:00",
           6.3,
           4,
           2,
           "Recovery",
           "Anxious morning"
          ],
          [
           "2019-04-15T00:00:00",
           6.2,
           7,
           1,
           "Peak",
           "Relaxed"
          ]
         ],
         "hovertemplate": "Type=Workday<br>Year=2019<br>Exercise (min)=%{x}<br>Mood Score=%{y}<br>Date=%{customdata[0]}<br>Sleep Hours=%{customdata[1]}<br>Stress Level=%{customdata[2]}<br>Social Interactions=%{customdata[3]}<br>Category=%{customdata[4]}<br>Notes=%{customdata[5]}<extra></extra>",
         "legendgroup": "Workday",
         "marker": {
          "color": "#636efa",
          "symbol": "circle"
         },
         "mode": "markers",
         "name": "Workday",
         "orientation": "v",
         "showlegend": false,
         "type": "scatter",
         "x": {
          "bdata": "OAUF",
          "dtype": "i1"
         },
         "xaxis": "x4",
         "y": {
          "bdata": "BAgD",
          "dtype": "i1"
         },
         "yaxis": "y4"
        },
        {
         "customdata": [
          [
           "2020-11-28T00:00:00",
           7.5,
           8,
           3,
           "Peak",
           "Good energy"
          ],
          [
           "2020-03-21T00:00:00",
           4.2,
           8,
           5,
           "Recovery",
           "Felt productive"
          ],
          [
           "2020-08-25T00:00:00",
           7.6,
           9,
           0,
           "Recovery",
           "Socialized a lot"
          ],
          [
           "2020-12-30T00:00:00",
           8.6,
           2,
           5,
           "Low",
           "Skipped exercise"
          ],
          [
           "2020-01-11T00:00:00",
           7.6,
           8,
           5,
           "Routine",
           "Busy day"
          ]
         ],
         "hovertemplate": "Type=Workday<br>Year=2020<br>Exercise (min)=%{x}<br>Mood Score=%{y}<br>Date=%{customdata[0]}<br>Sleep Hours=%{customdata[1]}<br>Stress Level=%{customdata[2]}<br>Social Interactions=%{customdata[3]}<br>Category=%{customdata[4]}<br>Notes=%{customdata[5]}<extra></extra>",
         "legendgroup": "Workday",
         "marker": {
          "color": "#636efa",
          "symbol": "circle"
         },
         "mode": "markers",
         "name": "Workday",
         "orientation": "v",
         "showlegend": false,
         "type": "scatter",
         "x": {
          "bdata": "HxAeERc=",
          "dtype": "i1"
         },
         "xaxis": "x5",
         "y": {
          "bdata": "CQIKCgg=",
          "dtype": "i1"
         },
         "yaxis": "y5"
        },
        {
         "customdata": [
          [
           "2021-04-24T00:00:00",
           8.6,
           4,
           5,
           "Low",
           "Focused"
          ],
          [
           "2021-05-15T00:00:00",
           8.4,
           5,
           0,
           "Recovery",
           "Good energy"
          ],
          [
           "2021-09-21T00:00:00",
           5.9,
           8,
           4,
           "Low",
           "Anxious morning"
          ],
          [
           "2021-05-17T00:00:00",
           8.1,
           6,
           1,
           "Low",
           "Anxious morning"
          ]
         ],
         "hovertemplate": "Type=Workday<br>Year=2021<br>Exercise (min)=%{x}<br>Mood Score=%{y}<br>Date=%{customdata[0]}<br>Sleep Hours=%{customdata[1]}<br>Stress Level=%{customdata[2]}<br>Social Interactions=%{customdata[3]}<br>Category=%{customdata[4]}<br>Notes=%{customdata[5]}<extra></extra>",
         "legendgroup": "Workday",
         "marker": {
          "color": "#636efa",
          "symbol": "circle"
         },
         "mode": "markers",
         "name": "Workday",
         "orientation": "v",
         "showlegend": false,
         "type": "scatter",
         "x": {
          "bdata": "BToCAg==",
          "dtype": "i1"
         },
         "xaxis": "x6",
         "y": {
          "bdata": "AwkJAQ==",
          "dtype": "i1"
         },
         "yaxis": "y6"
        },
        {
         "customdata": [
          [
           "2023-08-30T00:00:00",
           7.7,
           1,
           5,
           "Routine",
           "Good energy"
          ],
          [
           "2023-05-31T00:00:00",
           8.5,
           8,
           2,
           "Routine",
           "Socialized a lot"
          ],
          [
           "2023-01-11T00:00:00",
           6,
           1,
           1,
           "Peak",
           "Relaxed"
          ],
          [
           "2023-06-21T00:00:00",
           4.4,
           2,
           4,
           "Peak",
           "Distracted"
          ],
          [
           "2023-09-07T00:00:00",
           4.3,
           9,
           0,
           "Low",
           "Skipped exercise"
          ]
         ],
         "hovertemplate": "Type=Workday<br>Year=2023<br>Exercise (min)=%{x}<br>Mood Score=%{y}<br>Date=%{customdata[0]}<br>Sleep Hours=%{customdata[1]}<br>Stress Level=%{customdata[2]}<br>Social Interactions=%{customdata[3]}<br>Category=%{customdata[4]}<br>Notes=%{customdata[5]}<extra></extra>",
         "legendgroup": "Workday",
         "marker": {
          "color": "#636efa",
          "symbol": "circle"
         },
         "mode": "markers",
         "name": "Workday",
         "orientation": "v",
         "showlegend": false,
         "type": "scatter",
         "x": {
          "bdata": "NzYNFR4=",
          "dtype": "i1"
         },
         "xaxis": "x8",
         "y": {
          "bdata": "CAMKBwM=",
          "dtype": "i1"
         },
         "yaxis": "y8"
        },
        {
         "customdata": [
          [
           "2025-03-08T00:00:00",
           4.1,
           5,
           2,
           "Routine",
           "Anxious morning"
          ],
          [
           "2025-02-21T00:00:00",
           5.2,
           2,
           4,
           "Recovery",
           "Socialized a lot"
          ],
          [
           "2025-02-26T00:00:00",
           5.4,
           6,
           4,
           "Routine",
           "Low motivation"
          ]
         ],
         "hovertemplate": "Type=Workday<br>Year=2025<br>Exercise (min)=%{x}<br>Mood Score=%{y}<br>Date=%{customdata[0]}<br>Sleep Hours=%{customdata[1]}<br>Stress Level=%{customdata[2]}<br>Social Interactions=%{customdata[3]}<br>Category=%{customdata[4]}<br>Notes=%{customdata[5]}<extra></extra>",
         "legendgroup": "Workday",
         "marker": {
          "color": "#636efa",
          "symbol": "circle"
         },
         "mode": "markers",
         "name": "Workday",
         "orientation": "v",
         "showlegend": false,
         "type": "scatter",
         "x": {
          "bdata": "NyIZ",
          "dtype": "i1"
         },
         "xaxis": "x10",
         "y": {
          "bdata": "BwQC",
          "dtype": "i1"
         },
         "yaxis": "y10"
        },
        {
         "customdata": [
          [
           "2016-09-07T00:00:00",
           8.6,
           9,
           0,
           "Low",
           "Good energy"
          ],
          [
           "2016-08-23T00:00:00",
           7.6,
           5,
           4,
           "Recovery",
           "Skipped exercise"
          ],
          [
           "2016-06-10T00:00:00",
           5.1,
           4,
           5,
           "Routine",
           "Good energy"
          ],
          [
           "2016-05-02T00:00:00",
           7.2,
           10,
           4,
           "Routine",
           "Felt productive"
          ],
          [
           "2016-04-28T00:00:00",
           8.9,
           5,
           0,
           "Peak",
           "Socialized a lot"
          ]
         ],
         "hovertemplate": "Type=Weekend<br>Year=2016<br>Exercise (min)=%{x}<br>Mood Score=%{y}<br>Date=%{customdata[0]}<br>Sleep Hours=%{customdata[1]}<br>Stress Level=%{customdata[2]}<br>Social Interactions=%{customdata[3]}<br>Category=%{customdata[4]}<br>Notes=%{customdata[5]}<extra></extra>",
         "legendgroup": "Weekend",
         "marker": {
          "color": "#EF553B",
          "symbol": "circle"
         },
         "mode": "markers",
         "name": "Weekend",
         "orientation": "v",
         "showlegend": true,
         "type": "scatter",
         "x": {
          "bdata": "OgsbOyE=",
          "dtype": "i1"
         },
         "xaxis": "x",
         "y": {
          "bdata": "AwIGAgU=",
          "dtype": "i1"
         },
         "yaxis": "y"
        },
        {
         "customdata": [
          [
           "2017-06-05T00:00:00",
           6,
           8,
           1,
           "Peak",
           "Great mood"
          ],
          [
           "2017-04-19T00:00:00",
           5.5,
           2,
           4,
           "Recovery",
           "Relaxed"
          ],
          [
           "2017-05-04T00:00:00",
           8.6,
           6,
           0,
           "Routine",
           "Good energy"
          ]
         ],
         "hovertemplate": "Type=Weekend<br>Year=2017<br>Exercise (min)=%{x}<br>Mood Score=%{y}<br>Date=%{customdata[0]}<br>Sleep Hours=%{customdata[1]}<br>Stress Level=%{customdata[2]}<br>Social Interactions=%{customdata[3]}<br>Category=%{customdata[4]}<br>Notes=%{customdata[5]}<extra></extra>",
         "legendgroup": "Weekend",
         "marker": {
          "color": "#EF553B",
          "symbol": "circle"
         },
         "mode": "markers",
         "name": "Weekend",
         "orientation": "v",
         "showlegend": false,
         "type": "scatter",
         "x": {
          "bdata": "Bzo8",
          "dtype": "i1"
         },
         "xaxis": "x2",
         "y": {
          "bdata": "AQIE",
          "dtype": "i1"
         },
         "yaxis": "y2"
        },
        {
         "customdata": [
          [
           "2018-08-13T00:00:00",
           4.7,
           4,
           4,
           "Routine",
           "Relaxed"
          ],
          [
           "2018-06-14T00:00:00",
           6.9,
           3,
           2,
           "Low",
           "Overwhelmed"
          ],
          [
           "2018-06-01T00:00:00",
           8.5,
           1,
           0,
           "Peak",
           "Overwhelmed"
          ],
          [
           "2018-09-07T00:00:00",
           8.1,
           2,
           1,
           "Peak",
           "Relaxed"
          ]
         ],
         "hovertemplate": "Type=Weekend<br>Year=2018<br>Exercise (min)=%{x}<br>Mood Score=%{y}<br>Date=%{customdata[0]}<br>Sleep Hours=%{customdata[1]}<br>Stress Level=%{customdata[2]}<br>Social Interactions=%{customdata[3]}<br>Category=%{customdata[4]}<br>Notes=%{customdata[5]}<extra></extra>",
         "legendgroup": "Weekend",
         "marker": {
          "color": "#EF553B",
          "symbol": "circle"
         },
         "mode": "markers",
         "name": "Weekend",
         "orientation": "v",
         "showlegend": false,
         "type": "scatter",
         "x": {
          "bdata": "GRU8KQ==",
          "dtype": "i1"
         },
         "xaxis": "x3",
         "y": {
          "bdata": "CQIBBw==",
          "dtype": "i1"
         },
         "yaxis": "y3"
        },
        {
         "customdata": [
          [
           "2019-01-18T00:00:00",
           7.3,
           3,
           0,
           "Recovery",
           "Good energy"
          ],
          [
           "2019-10-21T00:00:00",
           9,
           1,
           1,
           "Low",
           "Good energy"
          ],
          [
           "2019-08-27T00:00:00",
           5.6,
           9,
           4,
           "Recovery",
           "Felt productive"
          ],
          [
           "2019-01-02T00:00:00",
           8.4,
           10,
           4,
           "Recovery",
           "Distracted"
          ],
          [
           "2019-01-12T00:00:00",
           7.7,
           3,
           4,
           "Routine",
           "Focused"
          ]
         ],
         "hovertemplate": "Type=Weekend<br>Year=2019<br>Exercise (min)=%{x}<br>Mood Score=%{y}<br>Date=%{customdata[0]}<br>Sleep Hours=%{customdata[1]}<br>Stress Level=%{customdata[2]}<br>Social Interactions=%{customdata[3]}<br>Category=%{customdata[4]}<br>Notes=%{customdata[5]}<extra></extra>",
         "legendgroup": "Weekend",
         "marker": {
          "color": "#EF553B",
          "symbol": "circle"
         },
         "mode": "markers",
         "name": "Weekend",
         "orientation": "v",
         "showlegend": false,
         "type": "scatter",
         "x": {
          "bdata": "BDURIh0=",
          "dtype": "i1"
         },
         "xaxis": "x4",
         "y": {
          "bdata": "AwEFBgQ=",
          "dtype": "i1"
         },
         "yaxis": "y4"
        },
        {
         "customdata": [
          [
           "2020-12-29T00:00:00",
           8,
           9,
           5,
           "Low",
           "Poor sleep"
          ],
          [
           "2020-11-14T00:00:00",
           4.8,
           8,
           1,
           "Recovery",
           "Busy day"
          ]
         ],
         "hovertemplate": "Type=Weekend<br>Year=2020<br>Exercise (min)=%{x}<br>Mood Score=%{y}<br>Date=%{customdata[0]}<br>Sleep Hours=%{customdata[1]}<br>Stress Level=%{customdata[2]}<br>Social Interactions=%{customdata[3]}<br>Category=%{customdata[4]}<br>Notes=%{customdata[5]}<extra></extra>",
         "legendgroup": "Weekend",
         "marker": {
          "color": "#EF553B",
          "symbol": "circle"
         },
         "mode": "markers",
         "name": "Weekend",
         "orientation": "v",
         "showlegend": false,
         "type": "scatter",
         "x": {
          "bdata": "Mg4=",
          "dtype": "i1"
         },
         "xaxis": "x5",
         "y": {
          "bdata": "BwQ=",
          "dtype": "i1"
         },
         "yaxis": "y5"
        },
        {
         "customdata": [
          [
           "2021-10-31T00:00:00",
           6.6,
           8,
           3,
           "Routine",
           "Focused"
          ],
          [
           "2021-08-10T00:00:00",
           7.7,
           6,
           3,
           "Routine",
           "Meditated"
          ]
         ],
         "hovertemplate": "Type=Weekend<br>Year=2021<br>Exercise (min)=%{x}<br>Mood Score=%{y}<br>Date=%{customdata[0]}<br>Sleep Hours=%{customdata[1]}<br>Stress Level=%{customdata[2]}<br>Social Interactions=%{customdata[3]}<br>Category=%{customdata[4]}<br>Notes=%{customdata[5]}<extra></extra>",
         "legendgroup": "Weekend",
         "marker": {
          "color": "#EF553B",
          "symbol": "circle"
         },
         "mode": "markers",
         "name": "Weekend",
         "orientation": "v",
         "showlegend": false,
         "type": "scatter",
         "x": {
          "bdata": "HQA=",
          "dtype": "i1"
         },
         "xaxis": "x6",
         "y": {
          "bdata": "AwU=",
          "dtype": "i1"
         },
         "yaxis": "y6"
        },
        {
         "customdata": [
          [
           "2022-07-18T00:00:00",
           8.6,
           6,
           4,
           "Low",
           "Great mood"
          ],
          [
           "2022-04-15T00:00:00",
           8.6,
           4,
           3,
           "Peak",
           "Socialized a lot"
          ]
         ],
         "hovertemplate": "Type=Weekend<br>Year=2022<br>Exercise (min)=%{x}<br>Mood Score=%{y}<br>Date=%{customdata[0]}<br>Sleep Hours=%{customdata[1]}<br>Stress Level=%{customdata[2]}<br>Social Interactions=%{customdata[3]}<br>Category=%{customdata[4]}<br>Notes=%{customdata[5]}<extra></extra>",
         "legendgroup": "Weekend",
         "marker": {
          "color": "#EF553B",
          "symbol": "circle"
         },
         "mode": "markers",
         "name": "Weekend",
         "orientation": "v",
         "showlegend": false,
         "type": "scatter",
         "x": {
          "bdata": "NSY=",
          "dtype": "i1"
         },
         "xaxis": "x7",
         "y": {
          "bdata": "AgI=",
          "dtype": "i1"
         },
         "yaxis": "y7"
        },
        {
         "customdata": [
          [
           "2023-10-20T00:00:00",
           6.9,
           8,
           0,
           "Peak",
           "Great mood"
          ],
          [
           "2023-05-19T00:00:00",
           6.5,
           8,
           1,
           "Low",
           "Meditated"
          ],
          [
           "2023-01-04T00:00:00",
           7.7,
           1,
           1,
           "Peak",
           "Great mood"
          ]
         ],
         "hovertemplate": "Type=Weekend<br>Year=2023<br>Exercise (min)=%{x}<br>Mood Score=%{y}<br>Date=%{customdata[0]}<br>Sleep Hours=%{customdata[1]}<br>Stress Level=%{customdata[2]}<br>Social Interactions=%{customdata[3]}<br>Category=%{customdata[4]}<br>Notes=%{customdata[5]}<extra></extra>",
         "legendgroup": "Weekend",
         "marker": {
          "color": "#EF553B",
          "symbol": "circle"
         },
         "mode": "markers",
         "name": "Weekend",
         "orientation": "v",
         "showlegend": false,
         "type": "scatter",
         "x": {
          "bdata": "OCQ8",
          "dtype": "i1"
         },
         "xaxis": "x8",
         "y": {
          "bdata": "BAIF",
          "dtype": "i1"
         },
         "yaxis": "y8"
        },
        {
         "customdata": [
          [
           "2024-04-22T00:00:00",
           6.2,
           7,
           0,
           "Routine",
           "Focused"
          ],
          [
           "2024-04-22T00:00:00",
           6.9,
           8,
           0,
           "Recovery",
           "Great mood"
          ],
          [
           "2024-05-24T00:00:00",
           5.7,
           2,
           5,
           "Peak",
           "Socialized a lot"
          ],
          [
           "2024-07-11T00:00:00",
           7.8,
           1,
           0,
           "Routine",
           "Slept well"
          ]
         ],
         "hovertemplate": "Type=Weekend<br>Year=2024<br>Exercise (min)=%{x}<br>Mood Score=%{y}<br>Date=%{customdata[0]}<br>Sleep Hours=%{customdata[1]}<br>Stress Level=%{customdata[2]}<br>Social Interactions=%{customdata[3]}<br>Category=%{customdata[4]}<br>Notes=%{customdata[5]}<extra></extra>",
         "legendgroup": "Weekend",
         "marker": {
          "color": "#EF553B",
          "symbol": "circle"
         },
         "mode": "markers",
         "name": "Weekend",
         "orientation": "v",
         "showlegend": false,
         "type": "scatter",
         "x": {
          "bdata": "CCInFg==",
          "dtype": "i1"
         },
         "xaxis": "x9",
         "y": {
          "bdata": "CQMBBQ==",
          "dtype": "i1"
         },
         "yaxis": "y9"
        },
        {
         "customdata": [
          [
           "2025-12-12T00:00:00",
           5.3,
           1,
           3,
           "Routine",
           "Focused"
          ],
          [
           "2025-06-24T00:00:00",
           6.9,
           1,
           1,
           "Routine",
           "Socialized a lot"
          ],
          [
           "2025-04-03T00:00:00",
           4.7,
           7,
           4,
           "Routine",
           "Slept well"
          ]
         ],
         "hovertemplate": "Type=Weekend<br>Year=2025<br>Exercise (min)=%{x}<br>Mood Score=%{y}<br>Date=%{customdata[0]}<br>Sleep Hours=%{customdata[1]}<br>Stress Level=%{customdata[2]}<br>Social Interactions=%{customdata[3]}<br>Category=%{customdata[4]}<br>Notes=%{customdata[5]}<extra></extra>",
         "legendgroup": "Weekend",
         "marker": {
          "color": "#EF553B",
          "symbol": "circle"
         },
         "mode": "markers",
         "name": "Weekend",
         "orientation": "v",
         "showlegend": false,
         "type": "scatter",
         "x": {
          "bdata": "By4p",
          "dtype": "i1"
         },
         "xaxis": "x10",
         "y": {
          "bdata": "CQIK",
          "dtype": "i1"
         },
         "yaxis": "y10"
        },
        {
         "customdata": [
          [
           "2016-08-15T00:00:00",
           7.1,
           10,
           3,
           "Recovery",
           "Skipped exercise"
          ]
         ],
         "hovertemplate": "Type=Holiday<br>Year=2016<br>Exercise (min)=%{x}<br>Mood Score=%{y}<br>Date=%{customdata[0]}<br>Sleep Hours=%{customdata[1]}<br>Stress Level=%{customdata[2]}<br>Social Interactions=%{customdata[3]}<br>Category=%{customdata[4]}<br>Notes=%{customdata[5]}<extra></extra>",
         "legendgroup": "Holiday",
         "marker": {
          "color": "#00cc96",
          "symbol": "circle"
         },
         "mode": "markers",
         "name": "Holiday",
         "orientation": "v",
         "showlegend": true,
         "type": "scatter",
         "x": {
          "bdata": "MA==",
          "dtype": "i1"
         },
         "xaxis": "x",
         "y": {
          "bdata": "AQ==",
          "dtype": "i1"
         },
         "yaxis": "y"
        },
        {
         "customdata": [
          [
           "2018-10-06T00:00:00",
           5.6,
           5,
           4,
           "Peak",
           "Felt productive"
          ],
          [
           "2018-12-07T00:00:00",
           5.5,
           1,
           4,
           "Peak",
           "Busy day"
          ],
          [
           "2018-02-25T00:00:00",
           5.8,
           4,
           0,
           "Recovery",
           "Meditated"
          ]
         ],
         "hovertemplate": "Type=Holiday<br>Year=2018<br>Exercise (min)=%{x}<br>Mood Score=%{y}<br>Date=%{customdata[0]}<br>Sleep Hours=%{customdata[1]}<br>Stress Level=%{customdata[2]}<br>Social Interactions=%{customdata[3]}<br>Category=%{customdata[4]}<br>Notes=%{customdata[5]}<extra></extra>",
         "legendgroup": "Holiday",
         "marker": {
          "color": "#00cc96",
          "symbol": "circle"
         },
         "mode": "markers",
         "name": "Holiday",
         "orientation": "v",
         "showlegend": false,
         "type": "scatter",
         "x": {
          "bdata": "MQ8p",
          "dtype": "i1"
         },
         "xaxis": "x3",
         "y": {
          "bdata": "AgMC",
          "dtype": "i1"
         },
         "yaxis": "y3"
        },
        {
         "customdata": [
          [
           "2019-07-11T00:00:00",
           8.3,
           2,
           0,
           "Recovery",
           "Distracted"
          ]
         ],
         "hovertemplate": "Type=Holiday<br>Year=2019<br>Exercise (min)=%{x}<br>Mood Score=%{y}<br>Date=%{customdata[0]}<br>Sleep Hours=%{customdata[1]}<br>Stress Level=%{customdata[2]}<br>Social Interactions=%{customdata[3]}<br>Category=%{customdata[4]}<br>Notes=%{customdata[5]}<extra></extra>",
         "legendgroup": "Holiday",
         "marker": {
          "color": "#00cc96",
          "symbol": "circle"
         },
         "mode": "markers",
         "name": "Holiday",
         "orientation": "v",
         "showlegend": false,
         "type": "scatter",
         "x": {
          "bdata": "Lg==",
          "dtype": "i1"
         },
         "xaxis": "x4",
         "y": {
          "bdata": "AQ==",
          "dtype": "i1"
         },
         "yaxis": "y4"
        },
        {
         "customdata": [
          [
           "2020-12-30T00:00:00",
           6.9,
           9,
           1,
           "Routine",
           "Relaxed"
          ],
          [
           "2020-10-16T00:00:00",
           9,
           7,
           3,
           "Routine",
           "Felt productive"
          ]
         ],
         "hovertemplate": "Type=Holiday<br>Year=2020<br>Exercise (min)=%{x}<br>Mood Score=%{y}<br>Date=%{customdata[0]}<br>Sleep Hours=%{customdata[1]}<br>Stress Level=%{customdata[2]}<br>Social Interactions=%{customdata[3]}<br>Category=%{customdata[4]}<br>Notes=%{customdata[5]}<extra></extra>",
         "legendgroup": "Holiday",
         "marker": {
          "color": "#00cc96",
          "symbol": "circle"
         },
         "mode": "markers",
         "name": "Holiday",
         "orientation": "v",
         "showlegend": false,
         "type": "scatter",
         "x": {
          "bdata": "JSQ=",
          "dtype": "i1"
         },
         "xaxis": "x5",
         "y": {
          "bdata": "Agc=",
          "dtype": "i1"
         },
         "yaxis": "y5"
        },
        {
         "customdata": [
          [
           "2022-01-13T00:00:00",
           7.8,
           7,
           2,
           "Routine",
           "Low motivation"
          ],
          [
           "2022-01-08T00:00:00",
           5.7,
           10,
           1,
           "Routine",
           "Meditated"
          ]
         ],
         "hovertemplate": "Type=Holiday<br>Year=2022<br>Exercise (min)=%{x}<br>Mood Score=%{y}<br>Date=%{customdata[0]}<br>Sleep Hours=%{customdata[1]}<br>Stress Level=%{customdata[2]}<br>Social Interactions=%{customdata[3]}<br>Category=%{customdata[4]}<br>Notes=%{customdata[5]}<extra></extra>",
         "legendgroup": "Holiday",
         "marker": {
          "color": "#00cc96",
          "symbol": "circle"
         },
         "mode": "markers",
         "name": "Holiday",
         "orientation": "v",
         "showlegend": false,
         "type": "scatter",
         "x": {
          "bdata": "FTo=",
          "dtype": "i1"
         },
         "xaxis": "x7",
         "y": {
          "bdata": "Bgc=",
          "dtype": "i1"
         },
         "yaxis": "y7"
        },
        {
         "customdata": [
          [
           "2023-04-09T00:00:00",
           6.2,
           9,
           5,
           "Peak",
           "Distracted"
          ],
          [
           "2023-03-02T00:00:00",
           6.8,
           6,
           1,
           "Routine",
           "Focused"
          ]
         ],
         "hovertemplate": "Type=Holiday<br>Year=2023<br>Exercise (min)=%{x}<br>Mood Score=%{y}<br>Date=%{customdata[0]}<br>Sleep Hours=%{customdata[1]}<br>Stress Level=%{customdata[2]}<br>Social Interactions=%{customdata[3]}<br>Category=%{customdata[4]}<br>Notes=%{customdata[5]}<extra></extra>",
         "legendgroup": "Holiday",
         "marker": {
          "color": "#00cc96",
          "symbol": "circle"
         },
         "mode": "markers",
         "name": "Holiday",
         "orientation": "v",
         "showlegend": false,
         "type": "scatter",
         "x": {
          "bdata": "DRk=",
          "dtype": "i1"
         },
         "xaxis": "x8",
         "y": {
          "bdata": "CQU=",
          "dtype": "i1"
         },
         "yaxis": "y8"
        },
        {
         "customdata": [
          [
           "2024-05-07T00:00:00",
           6.5,
           1,
           5,
           "Low",
           "Anxious morning"
          ]
         ],
         "hovertemplate": "Type=Holiday<br>Year=2024<br>Exercise (min)=%{x}<br>Mood Score=%{y}<br>Date=%{customdata[0]}<br>Sleep Hours=%{customdata[1]}<br>Stress Level=%{customdata[2]}<br>Social Interactions=%{customdata[3]}<br>Category=%{customdata[4]}<br>Notes=%{customdata[5]}<extra></extra>",
         "legendgroup": "Holiday",
         "marker": {
          "color": "#00cc96",
          "symbol": "circle"
         },
         "mode": "markers",
         "name": "Holiday",
         "orientation": "v",
         "showlegend": false,
         "type": "scatter",
         "x": {
          "bdata": "Jw==",
          "dtype": "i1"
         },
         "xaxis": "x9",
         "y": {
          "bdata": "Ag==",
          "dtype": "i1"
         },
         "yaxis": "y9"
        },
        {
         "customdata": [
          [
           "2025-09-16T00:00:00",
           8.1,
           6,
           5,
           "Low",
           "Meditated"
          ],
          [
           "2025-03-30T00:00:00",
           6.1,
           6,
           2,
           "Low",
           "Socialized a lot"
          ],
          [
           "2025-03-16T00:00:00",
           8,
           3,
           3,
           "Low",
           "Socialized a lot"
          ]
         ],
         "hovertemplate": "Type=Holiday<br>Year=2025<br>Exercise (min)=%{x}<br>Mood Score=%{y}<br>Date=%{customdata[0]}<br>Sleep Hours=%{customdata[1]}<br>Stress Level=%{customdata[2]}<br>Social Interactions=%{customdata[3]}<br>Category=%{customdata[4]}<br>Notes=%{customdata[5]}<extra></extra>",
         "legendgroup": "Holiday",
         "marker": {
          "color": "#00cc96",
          "symbol": "circle"
         },
         "mode": "markers",
         "name": "Holiday",
         "orientation": "v",
         "showlegend": false,
         "type": "scatter",
         "x": {
          "bdata": "MDAR",
          "dtype": "i1"
         },
         "xaxis": "x10",
         "y": {
          "bdata": "AgQH",
          "dtype": "i1"
         },
         "yaxis": "y10"
        },
        {
         "customdata": [
          [
           "2016-11-07T00:00:00",
           7.9,
           6,
           5,
           "Peak",
           "Low motivation"
          ]
         ],
         "hovertemplate": "Type=Sick Day<br>Year=2016<br>Exercise (min)=%{x}<br>Mood Score=%{y}<br>Date=%{customdata[0]}<br>Sleep Hours=%{customdata[1]}<br>Stress Level=%{customdata[2]}<br>Social Interactions=%{customdata[3]}<br>Category=%{customdata[4]}<br>Notes=%{customdata[5]}<extra></extra>",
         "legendgroup": "Sick Day",
         "marker": {
          "color": "#ab63fa",
          "symbol": "circle"
         },
         "mode": "markers",
         "name": "Sick Day",
         "orientation": "v",
         "showlegend": true,
         "type": "scatter",
         "x": {
          "bdata": "Fw==",
          "dtype": "i1"
         },
         "xaxis": "x",
         "y": {
          "bdata": "Cg==",
          "dtype": "i1"
         },
         "yaxis": "y"
        },
        {
         "customdata": [
          [
           "2018-03-24T00:00:00",
           8.6,
           1,
           0,
           "Peak",
           "Good energy"
          ],
          [
           "2018-09-02T00:00:00",
           6.7,
           4,
           2,
           "Low",
           "Relaxed"
          ],
          [
           "2018-09-07T00:00:00",
           5,
           2,
           3,
           "Recovery",
           "Busy day"
          ],
          [
           "2018-06-14T00:00:00",
           5.9,
           4,
           4,
           "Low",
           "Overwhelmed"
          ],
          [
           "2018-07-20T00:00:00",
           8.8,
           5,
           5,
           "Low",
           "Slept well"
          ]
         ],
         "hovertemplate": "Type=Sick Day<br>Year=2018<br>Exercise (min)=%{x}<br>Mood Score=%{y}<br>Date=%{customdata[0]}<br>Sleep Hours=%{customdata[1]}<br>Stress Level=%{customdata[2]}<br>Social Interactions=%{customdata[3]}<br>Category=%{customdata[4]}<br>Notes=%{customdata[5]}<extra></extra>",
         "legendgroup": "Sick Day",
         "marker": {
          "color": "#ab63fa",
          "symbol": "circle"
         },
         "mode": "markers",
         "name": "Sick Day",
         "orientation": "v",
         "showlegend": false,
         "type": "scatter",
         "x": {
          "bdata": "AgkbFBw=",
          "dtype": "i1"
         },
         "xaxis": "x3",
         "y": {
          "bdata": "CAYIBgg=",
          "dtype": "i1"
         },
         "yaxis": "y3"
        },
        {
         "customdata": [
          [
           "2019-03-02T00:00:00",
           8.6,
           5,
           1,
           "Recovery",
           "Good energy"
          ],
          [
           "2019-12-28T00:00:00",
           6.3,
           2,
           0,
           "Routine",
           "Felt productive"
          ],
          [
           "2019-03-25T00:00:00",
           6.2,
           8,
           1,
           "Routine",
           "Great mood"
          ]
         ],
         "hovertemplate": "Type=Sick Day<br>Year=2019<br>Exercise (min)=%{x}<br>Mood Score=%{y}<br>Date=%{customdata[0]}<br>Sleep Hours=%{customdata[1]}<br>Stress Level=%{customdata[2]}<br>Social Interactions=%{customdata[3]}<br>Category=%{customdata[4]}<br>Notes=%{customdata[5]}<extra></extra>",
         "legendgroup": "Sick Day",
         "marker": {
          "color": "#ab63fa",
          "symbol": "circle"
         },
         "mode": "markers",
         "name": "Sick Day",
         "orientation": "v",
         "showlegend": false,
         "type": "scatter",
         "x": {
          "bdata": "DhMn",
          "dtype": "i1"
         },
         "xaxis": "x4",
         "y": {
          "bdata": "CAkI",
          "dtype": "i1"
         },
         "yaxis": "y4"
        },
        {
         "customdata": [
          [
           "2020-11-27T00:00:00",
           8.1,
           10,
           1,
           "Routine",
           "Busy day"
          ]
         ],
         "hovertemplate": "Type=Sick Day<br>Year=2020<br>Exercise (min)=%{x}<br>Mood Score=%{y}<br>Date=%{customdata[0]}<br>Sleep Hours=%{customdata[1]}<br>Stress Level=%{customdata[2]}<br>Social Interactions=%{customdata[3]}<br>Category=%{customdata[4]}<br>Notes=%{customdata[5]}<extra></extra>",
         "legendgroup": "Sick Day",
         "marker": {
          "color": "#ab63fa",
          "symbol": "circle"
         },
         "mode": "markers",
         "name": "Sick Day",
         "orientation": "v",
         "showlegend": false,
         "type": "scatter",
         "x": {
          "bdata": "AQ==",
          "dtype": "i1"
         },
         "xaxis": "x5",
         "y": {
          "bdata": "Bg==",
          "dtype": "i1"
         },
         "yaxis": "y5"
        },
        {
         "customdata": [
          [
           "2021-03-28T00:00:00",
           7.5,
           4,
           0,
           "Peak",
           "Relaxed"
          ]
         ],
         "hovertemplate": "Type=Sick Day<br>Year=2021<br>Exercise (min)=%{x}<br>Mood Score=%{y}<br>Date=%{customdata[0]}<br>Sleep Hours=%{customdata[1]}<br>Stress Level=%{customdata[2]}<br>Social Interactions=%{customdata[3]}<br>Category=%{customdata[4]}<br>Notes=%{customdata[5]}<extra></extra>",
         "legendgroup": "Sick Day",
         "marker": {
          "color": "#ab63fa",
          "symbol": "circle"
         },
         "mode": "markers",
         "name": "Sick Day",
         "orientation": "v",
         "showlegend": false,
         "type": "scatter",
         "x": {
          "bdata": "NQ==",
          "dtype": "i1"
         },
         "xaxis": "x6",
         "y": {
          "bdata": "AQ==",
          "dtype": "i1"
         },
         "yaxis": "y6"
        },
        {
         "customdata": [
          [
           "2022-03-29T00:00:00",
           5.8,
           6,
           0,
           "Peak",
           "Distracted"
          ],
          [
           "2022-12-02T00:00:00",
           7.3,
           5,
           3,
           "Recovery",
           "Great mood"
          ],
          [
           "2022-05-22T00:00:00",
           6.7,
           2,
           3,
           "Recovery",
           "Poor sleep"
          ],
          [
           "2022-12-08T00:00:00",
           7.5,
           8,
           3,
           "Peak",
           "Good energy"
          ],
          [
           "2022-10-17T00:00:00",
           8.4,
           5,
           5,
           "Low",
           "Busy day"
          ],
          [
           "2022-10-03T00:00:00",
           8.2,
           3,
           4,
           "Routine",
           "Poor sleep"
          ]
         ],
         "hovertemplate": "Type=Sick Day<br>Year=2022<br>Exercise (min)=%{x}<br>Mood Score=%{y}<br>Date=%{customdata[0]}<br>Sleep Hours=%{customdata[1]}<br>Stress Level=%{customdata[2]}<br>Social Interactions=%{customdata[3]}<br>Category=%{customdata[4]}<br>Notes=%{customdata[5]}<extra></extra>",
         "legendgroup": "Sick Day",
         "marker": {
          "color": "#ab63fa",
          "symbol": "circle"
         },
         "mode": "markers",
         "name": "Sick Day",
         "orientation": "v",
         "showlegend": false,
         "type": "scatter",
         "x": {
          "bdata": "LAczEwI5",
          "dtype": "i1"
         },
         "xaxis": "x7",
         "y": {
          "bdata": "CgcDCQkE",
          "dtype": "i1"
         },
         "yaxis": "y7"
        },
        {
         "customdata": [
          [
           "2023-10-06T00:00:00",
           5.3,
           1,
           1,
           "Recovery",
           "Distracted"
          ],
          [
           "2023-07-05T00:00:00",
           7.8,
           2,
           4,
           "Routine",
           "Great mood"
          ]
         ],
         "hovertemplate": "Type=Sick Day<br>Year=2023<br>Exercise (min)=%{x}<br>Mood Score=%{y}<br>Date=%{customdata[0]}<br>Sleep Hours=%{customdata[1]}<br>Stress Level=%{customdata[2]}<br>Social Interactions=%{customdata[3]}<br>Category=%{customdata[4]}<br>Notes=%{customdata[5]}<extra></extra>",
         "legendgroup": "Sick Day",
         "marker": {
          "color": "#ab63fa",
          "symbol": "circle"
         },
         "mode": "markers",
         "name": "Sick Day",
         "orientation": "v",
         "showlegend": false,
         "type": "scatter",
         "x": {
          "bdata": "OQs=",
          "dtype": "i1"
         },
         "xaxis": "x8",
         "y": {
          "bdata": "BAc=",
          "dtype": "i1"
         },
         "yaxis": "y8"
        },
        {
         "customdata": [
          [
           "2024-04-23T00:00:00",
           8.1,
           4,
           0,
           "Routine",
           "Great mood"
          ],
          [
           "2024-01-12T00:00:00",
           6.7,
           8,
           0,
           "Peak",
           "Meditated"
          ],
          [
           "2024-02-16T00:00:00",
           4.4,
           6,
           0,
           "Recovery",
           "Meditated"
          ]
         ],
         "hovertemplate": "Type=Sick Day<br>Year=2024<br>Exercise (min)=%{x}<br>Mood Score=%{y}<br>Date=%{customdata[0]}<br>Sleep Hours=%{customdata[1]}<br>Stress Level=%{customdata[2]}<br>Social Interactions=%{customdata[3]}<br>Category=%{customdata[4]}<br>Notes=%{customdata[5]}<extra></extra>",
         "legendgroup": "Sick Day",
         "marker": {
          "color": "#ab63fa",
          "symbol": "circle"
         },
         "mode": "markers",
         "name": "Sick Day",
         "orientation": "v",
         "showlegend": false,
         "type": "scatter",
         "x": {
          "bdata": "HA4q",
          "dtype": "i1"
         },
         "xaxis": "x9",
         "y": {
          "bdata": "AggF",
          "dtype": "i1"
         },
         "yaxis": "y9"
        },
        {
         "customdata": [
          [
           "2025-08-17T00:00:00",
           5.8,
           9,
           4,
           "Peak",
           "Meditated"
          ],
          [
           "2025-05-21T00:00:00",
           6.5,
           9,
           4,
           "Low",
           "Focused"
          ]
         ],
         "hovertemplate": "Type=Sick Day<br>Year=2025<br>Exercise (min)=%{x}<br>Mood Score=%{y}<br>Date=%{customdata[0]}<br>Sleep Hours=%{customdata[1]}<br>Stress Level=%{customdata[2]}<br>Social Interactions=%{customdata[3]}<br>Category=%{customdata[4]}<br>Notes=%{customdata[5]}<extra></extra>",
         "legendgroup": "Sick Day",
         "marker": {
          "color": "#ab63fa",
          "symbol": "circle"
         },
         "mode": "markers",
         "name": "Sick Day",
         "orientation": "v",
         "showlegend": false,
         "type": "scatter",
         "x": {
          "bdata": "JSg=",
          "dtype": "i1"
         },
         "xaxis": "x10",
         "y": {
          "bdata": "Bwg=",
          "dtype": "i1"
         },
         "yaxis": "y10"
        }
       ],
       "layout": {
        "annotations": [
         {
          "font": {},
          "showarrow": false,
          "text": "Year=2016",
          "x": 0.04100000000000001,
          "xanchor": "center",
          "xref": "paper",
          "y": 1,
          "yanchor": "bottom",
          "yref": "paper"
         },
         {
          "font": {},
          "showarrow": false,
          "text": "Year=2017",
          "x": 0.14300000000000004,
          "xanchor": "center",
          "xref": "paper",
          "y": 1,
          "yanchor": "bottom",
          "yref": "paper"
         },
         {
          "font": {},
          "showarrow": false,
          "text": "Year=2018",
          "x": 0.24500000000000005,
          "xanchor": "center",
          "xref": "paper",
          "y": 1,
          "yanchor": "bottom",
          "yref": "paper"
         },
         {
          "font": {},
          "showarrow": false,
          "text": "Year=2019",
          "x": 0.3470000000000001,
          "xanchor": "center",
          "xref": "paper",
          "y": 1,
          "yanchor": "bottom",
          "yref": "paper"
         },
         {
          "font": {},
          "showarrow": false,
          "text": "Year=2020",
          "x": 0.44900000000000007,
          "xanchor": "center",
          "xref": "paper",
          "y": 1,
          "yanchor": "bottom",
          "yref": "paper"
         },
         {
          "font": {},
          "showarrow": false,
          "text": "Year=2021",
          "x": 0.5510000000000002,
          "xanchor": "center",
          "xref": "paper",
          "y": 1,
          "yanchor": "bottom",
          "yref": "paper"
         },
         {
          "font": {},
          "showarrow": false,
          "text": "Year=2022",
          "x": 0.6530000000000001,
          "xanchor": "center",
          "xref": "paper",
          "y": 1,
          "yanchor": "bottom",
          "yref": "paper"
         },
         {
          "font": {},
          "showarrow": false,
          "text": "Year=2023",
          "x": 0.7550000000000001,
          "xanchor": "center",
          "xref": "paper",
          "y": 1,
          "yanchor": "bottom",
          "yref": "paper"
         },
         {
          "font": {},
          "showarrow": false,
          "text": "Year=2024",
          "x": 0.8570000000000002,
          "xanchor": "center",
          "xref": "paper",
          "y": 1,
          "yanchor": "bottom",
          "yref": "paper"
         },
         {
          "font": {},
          "showarrow": false,
          "text": "Year=2025",
          "x": 0.9590000000000002,
          "xanchor": "center",
          "xref": "paper",
          "y": 1,
          "yanchor": "bottom",
          "yref": "paper"
         }
        ],
        "legend": {
         "title": {
          "text": "Day Type"
         },
         "tracegroupgap": 0
        },
        "margin": {
         "b": 40,
         "l": 40,
         "r": 40,
         "t": 60
        },
        "template": {
         "data": {
          "bar": [
           {
            "error_x": {
             "color": "#2a3f5f"
            },
            "error_y": {
             "color": "#2a3f5f"
            },
            "marker": {
             "line": {
              "color": "#E5ECF6",
              "width": 0.5
             },
             "pattern": {
              "fillmode": "overlay",
              "size": 10,
              "solidity": 0.2
             }
            },
            "type": "bar"
           }
          ],
          "barpolar": [
           {
            "marker": {
             "line": {
              "color": "#E5ECF6",
              "width": 0.5
             },
             "pattern": {
              "fillmode": "overlay",
              "size": 10,
              "solidity": 0.2
             }
            },
            "type": "barpolar"
           }
          ],
          "carpet": [
           {
            "aaxis": {
             "endlinecolor": "#2a3f5f",
             "gridcolor": "white",
             "linecolor": "white",
             "minorgridcolor": "white",
             "startlinecolor": "#2a3f5f"
            },
            "baxis": {
             "endlinecolor": "#2a3f5f",
             "gridcolor": "white",
             "linecolor": "white",
             "minorgridcolor": "white",
             "startlinecolor": "#2a3f5f"
            },
            "type": "carpet"
           }
          ],
          "choropleth": [
           {
            "colorbar": {
             "outlinewidth": 0,
             "ticks": ""
            },
            "type": "choropleth"
           }
          ],
          "contour": [
           {
            "colorbar": {
             "outlinewidth": 0,
             "ticks": ""
            },
            "colorscale": [
             [
              0,
              "#0d0887"
             ],
             [
              0.1111111111111111,
              "#46039f"
             ],
             [
              0.2222222222222222,
              "#7201a8"
             ],
             [
              0.3333333333333333,
              "#9c179e"
             ],
             [
              0.4444444444444444,
              "#bd3786"
             ],
             [
              0.5555555555555556,
              "#d8576b"
             ],
             [
              0.6666666666666666,
              "#ed7953"
             ],
             [
              0.7777777777777778,
              "#fb9f3a"
             ],
             [
              0.8888888888888888,
              "#fdca26"
             ],
             [
              1,
              "#f0f921"
             ]
            ],
            "type": "contour"
           }
          ],
          "contourcarpet": [
           {
            "colorbar": {
             "outlinewidth": 0,
             "ticks": ""
            },
            "type": "contourcarpet"
           }
          ],
          "heatmap": [
           {
            "colorbar": {
             "outlinewidth": 0,
             "ticks": ""
            },
            "colorscale": [
             [
              0,
              "#0d0887"
             ],
             [
              0.1111111111111111,
              "#46039f"
             ],
             [
              0.2222222222222222,
              "#7201a8"
             ],
             [
              0.3333333333333333,
              "#9c179e"
             ],
             [
              0.4444444444444444,
              "#bd3786"
             ],
             [
              0.5555555555555556,
              "#d8576b"
             ],
             [
              0.6666666666666666,
              "#ed7953"
             ],
             [
              0.7777777777777778,
              "#fb9f3a"
             ],
             [
              0.8888888888888888,
              "#fdca26"
             ],
             [
              1,
              "#f0f921"
             ]
            ],
            "type": "heatmap"
           }
          ],
          "histogram": [
           {
            "marker": {
             "pattern": {
              "fillmode": "overlay",
              "size": 10,
              "solidity": 0.2
             }
            },
            "type": "histogram"
           }
          ],
          "histogram2d": [
           {
            "colorbar": {
             "outlinewidth": 0,
             "ticks": ""
            },
            "colorscale": [
             [
              0,
              "#0d0887"
             ],
             [
              0.1111111111111111,
              "#46039f"
             ],
             [
              0.2222222222222222,
              "#7201a8"
             ],
             [
              0.3333333333333333,
              "#9c179e"
             ],
             [
              0.4444444444444444,
              "#bd3786"
             ],
             [
              0.5555555555555556,
              "#d8576b"
             ],
             [
              0.6666666666666666,
              "#ed7953"
             ],
             [
              0.7777777777777778,
              "#fb9f3a"
             ],
             [
              0.8888888888888888,
              "#fdca26"
             ],
             [
              1,
              "#f0f921"
             ]
            ],
            "type": "histogram2d"
           }
          ],
          "histogram2dcontour": [
           {
            "colorbar": {
             "outlinewidth": 0,
             "ticks": ""
            },
            "colorscale": [
             [
              0,
              "#0d0887"
             ],
             [
              0.1111111111111111,
              "#46039f"
             ],
             [
              0.2222222222222222,
              "#7201a8"
             ],
             [
              0.3333333333333333,
              "#9c179e"
             ],
             [
              0.4444444444444444,
              "#bd3786"
             ],
             [
              0.5555555555555556,
              "#d8576b"
             ],
             [
              0.6666666666666666,
              "#ed7953"
             ],
             [
              0.7777777777777778,
              "#fb9f3a"
             ],
             [
              0.8888888888888888,
              "#fdca26"
             ],
             [
              1,
              "#f0f921"
             ]
            ],
            "type": "histogram2dcontour"
           }
          ],
          "mesh3d": [
           {
            "colorbar": {
             "outlinewidth": 0,
             "ticks": ""
            },
            "type": "mesh3d"
           }
          ],
          "parcoords": [
           {
            "line": {
             "colorbar": {
              "outlinewidth": 0,
              "ticks": ""
             }
            },
            "type": "parcoords"
           }
          ],
          "pie": [
           {
            "automargin": true,
            "type": "pie"
           }
          ],
          "scatter": [
           {
            "fillpattern": {
             "fillmode": "overlay",
             "size": 10,
             "solidity": 0.2
            },
            "type": "scatter"
           }
          ],
          "scatter3d": [
           {
            "line": {
             "colorbar": {
              "outlinewidth": 0,
              "ticks": ""
             }
            },
            "marker": {
             "colorbar": {
              "outlinewidth": 0,
              "ticks": ""
             }
            },
            "type": "scatter3d"
           }
          ],
          "scattercarpet": [
           {
            "marker": {
             "colorbar": {
              "outlinewidth": 0,
              "ticks": ""
             }
            },
            "type": "scattercarpet"
           }
          ],
          "scattergeo": [
           {
            "marker": {
             "colorbar": {
              "outlinewidth": 0,
              "ticks": ""
             }
            },
            "type": "scattergeo"
           }
          ],
          "scattergl": [
           {
            "marker": {
             "colorbar": {
              "outlinewidth": 0,
              "ticks": ""
             }
            },
            "type": "scattergl"
           }
          ],
          "scattermap": [
           {
            "marker": {
             "colorbar": {
              "outlinewidth": 0,
              "ticks": ""
             }
            },
            "type": "scattermap"
           }
          ],
          "scattermapbox": [
           {
            "marker": {
             "colorbar": {
              "outlinewidth": 0,
              "ticks": ""
             }
            },
            "type": "scattermapbox"
           }
          ],
          "scatterpolar": [
           {
            "marker": {
             "colorbar": {
              "outlinewidth": 0,
              "ticks": ""
             }
            },
            "type": "scatterpolar"
           }
          ],
          "scatterpolargl": [
           {
            "marker": {
             "colorbar": {
              "outlinewidth": 0,
              "ticks": ""
             }
            },
            "type": "scatterpolargl"
           }
          ],
          "scatterternary": [
           {
            "marker": {
             "colorbar": {
              "outlinewidth": 0,
              "ticks": ""
             }
            },
            "type": "scatterternary"
           }
          ],
          "surface": [
           {
            "colorbar": {
             "outlinewidth": 0,
             "ticks": ""
            },
            "colorscale": [
             [
              0,
              "#0d0887"
             ],
             [
              0.1111111111111111,
              "#46039f"
             ],
             [
              0.2222222222222222,
              "#7201a8"
             ],
             [
              0.3333333333333333,
              "#9c179e"
             ],
             [
              0.4444444444444444,
              "#bd3786"
             ],
             [
              0.5555555555555556,
              "#d8576b"
             ],
             [
              0.6666666666666666,
              "#ed7953"
             ],
             [
              0.7777777777777778,
              "#fb9f3a"
             ],
             [
              0.8888888888888888,
              "#fdca26"
             ],
             [
              1,
              "#f0f921"
             ]
            ],
            "type": "surface"
           }
          ],
          "table": [
           {
            "cells": {
             "fill": {
              "color": "#EBF0F8"
             },
             "line": {
              "color": "white"
             }
            },
            "header": {
             "fill": {
              "color": "#C8D4E3"
             },
             "line": {
              "color": "white"
             }
            },
            "type": "table"
           }
          ]
         },
         "layout": {
          "annotationdefaults": {
           "arrowcolor": "#2a3f5f",
           "arrowhead": 0,
           "arrowwidth": 1
          },
          "autotypenumbers": "strict",
          "coloraxis": {
           "colorbar": {
            "outlinewidth": 0,
            "ticks": ""
           }
          },
          "colorscale": {
           "diverging": [
            [
             0,
             "#8e0152"
            ],
            [
             0.1,
             "#c51b7d"
            ],
            [
             0.2,
             "#de77ae"
            ],
            [
             0.3,
             "#f1b6da"
            ],
            [
             0.4,
             "#fde0ef"
            ],
            [
             0.5,
             "#f7f7f7"
            ],
            [
             0.6,
             "#e6f5d0"
            ],
            [
             0.7,
             "#b8e186"
            ],
            [
             0.8,
             "#7fbc41"
            ],
            [
             0.9,
             "#4d9221"
            ],
            [
             1,
             "#276419"
            ]
           ],
           "sequential": [
            [
             0,
             "#0d0887"
            ],
            [
             0.1111111111111111,
             "#46039f"
            ],
            [
             0.2222222222222222,
             "#7201a8"
            ],
            [
             0.3333333333333333,
             "#9c179e"
            ],
            [
             0.4444444444444444,
             "#bd3786"
            ],
            [
             0.5555555555555556,
             "#d8576b"
            ],
            [
             0.6666666666666666,
             "#ed7953"
            ],
            [
             0.7777777777777778,
             "#fb9f3a"
            ],
            [
             0.8888888888888888,
             "#fdca26"
            ],
            [
             1,
             "#f0f921"
            ]
           ],
           "sequentialminus": [
            [
             0,
             "#0d0887"
            ],
            [
             0.1111111111111111,
             "#46039f"
            ],
            [
             0.2222222222222222,
             "#7201a8"
            ],
            [
             0.3333333333333333,
             "#9c179e"
            ],
            [
             0.4444444444444444,
             "#bd3786"
            ],
            [
             0.5555555555555556,
             "#d8576b"
            ],
            [
             0.6666666666666666,
             "#ed7953"
            ],
            [
             0.7777777777777778,
             "#fb9f3a"
            ],
            [
             0.8888888888888888,
             "#fdca26"
            ],
            [
             1,
             "#f0f921"
            ]
           ]
          },
          "colorway": [
           "#636efa",
           "#EF553B",
           "#00cc96",
           "#ab63fa",
           "#FFA15A",
           "#19d3f3",
           "#FF6692",
           "#B6E880",
           "#FF97FF",
           "#FECB52"
          ],
          "font": {
           "color": "#2a3f5f"
          },
          "geo": {
           "bgcolor": "white",
           "lakecolor": "white",
           "landcolor": "#E5ECF6",
           "showlakes": true,
           "showland": true,
           "subunitcolor": "white"
          },
          "hoverlabel": {
           "align": "left"
          },
          "hovermode": "closest",
          "mapbox": {
           "style": "light"
          },
          "paper_bgcolor": "white",
          "plot_bgcolor": "#E5ECF6",
          "polar": {
           "angularaxis": {
            "gridcolor": "white",
            "linecolor": "white",
            "ticks": ""
           },
           "bgcolor": "#E5ECF6",
           "radialaxis": {
            "gridcolor": "white",
            "linecolor": "white",
            "ticks": ""
           }
          },
          "scene": {
           "xaxis": {
            "backgroundcolor": "#E5ECF6",
            "gridcolor": "white",
            "gridwidth": 2,
            "linecolor": "white",
            "showbackground": true,
            "ticks": "",
            "zerolinecolor": "white"
           },
           "yaxis": {
            "backgroundcolor": "#E5ECF6",
            "gridcolor": "white",
            "gridwidth": 2,
            "linecolor": "white",
            "showbackground": true,
            "ticks": "",
            "zerolinecolor": "white"
           },
           "zaxis": {
            "backgroundcolor": "#E5ECF6",
            "gridcolor": "white",
            "gridwidth": 2,
            "linecolor": "white",
            "showbackground": true,
            "ticks": "",
            "zerolinecolor": "white"
           }
          },
          "shapedefaults": {
           "line": {
            "color": "#2a3f5f"
           }
          },
          "ternary": {
           "aaxis": {
            "gridcolor": "white",
            "linecolor": "white",
            "ticks": ""
           },
           "baxis": {
            "gridcolor": "white",
            "linecolor": "white",
            "ticks": ""
           },
           "bgcolor": "#E5ECF6",
           "caxis": {
            "gridcolor": "white",
            "linecolor": "white",
            "ticks": ""
           }
          },
          "title": {
           "x": 0.05
          },
          "xaxis": {
           "automargin": true,
           "gridcolor": "white",
           "linecolor": "white",
           "ticks": "",
           "title": {
            "standoff": 15
           },
           "zerolinecolor": "white",
           "zerolinewidth": 2
          },
          "yaxis": {
           "automargin": true,
           "gridcolor": "white",
           "linecolor": "white",
           "ticks": "",
           "title": {
            "standoff": 15
           },
           "zerolinecolor": "white",
           "zerolinewidth": 2
          }
         }
        },
        "title": {
         "text": "Exercise vs Mood – Interactive View by Year and Type"
        },
        "xaxis": {
         "anchor": "y",
         "domain": [
          0,
          0.08200000000000002
         ],
         "title": {
          "text": "Exercise (min)"
         }
        },
        "xaxis10": {
         "anchor": "y10",
         "domain": [
          0.9180000000000001,
          1
         ],
         "matches": "x",
         "title": {
          "text": "Exercise (min)"
         }
        },
        "xaxis2": {
         "anchor": "y2",
         "domain": [
          0.10200000000000002,
          0.18400000000000005
         ],
         "matches": "x",
         "title": {
          "text": "Exercise (min)"
         }
        },
        "xaxis3": {
         "anchor": "y3",
         "domain": [
          0.20400000000000004,
          0.28600000000000003
         ],
         "matches": "x",
         "title": {
          "text": "Exercise (min)"
         }
        },
        "xaxis4": {
         "anchor": "y4",
         "domain": [
          0.30600000000000005,
          0.38800000000000007
         ],
         "matches": "x",
         "title": {
          "text": "Exercise (min)"
         }
        },
        "xaxis5": {
         "anchor": "y5",
         "domain": [
          0.4080000000000001,
          0.4900000000000001
         ],
         "matches": "x",
         "title": {
          "text": "Exercise (min)"
         }
        },
        "xaxis6": {
         "anchor": "y6",
         "domain": [
          0.5100000000000001,
          0.5920000000000001
         ],
         "matches": "x",
         "title": {
          "text": "Exercise (min)"
         }
        },
        "xaxis7": {
         "anchor": "y7",
         "domain": [
          0.6120000000000001,
          0.6940000000000002
         ],
         "matches": "x",
         "title": {
          "text": "Exercise (min)"
         }
        },
        "xaxis8": {
         "anchor": "y8",
         "domain": [
          0.7140000000000001,
          0.796
         ],
         "matches": "x",
         "title": {
          "text": "Exercise (min)"
         }
        },
        "xaxis9": {
         "anchor": "y9",
         "domain": [
          0.8160000000000002,
          0.8980000000000001
         ],
         "matches": "x",
         "title": {
          "text": "Exercise (min)"
         }
        },
        "yaxis": {
         "anchor": "x",
         "domain": [
          0,
          1
         ],
         "title": {
          "text": "Mood Score"
         }
        },
        "yaxis10": {
         "anchor": "x10",
         "domain": [
          0,
          1
         ],
         "matches": "y",
         "showticklabels": false
        },
        "yaxis2": {
         "anchor": "x2",
         "domain": [
          0,
          1
         ],
         "matches": "y",
         "showticklabels": false
        },
        "yaxis3": {
         "anchor": "x3",
         "domain": [
          0,
          1
         ],
         "matches": "y",
         "showticklabels": false
        },
        "yaxis4": {
         "anchor": "x4",
         "domain": [
          0,
          1
         ],
         "matches": "y",
         "showticklabels": false
        },
        "yaxis5": {
         "anchor": "x5",
         "domain": [
          0,
          1
         ],
         "matches": "y",
         "showticklabels": false
        },
        "yaxis6": {
         "anchor": "x6",
         "domain": [
          0,
          1
         ],
         "matches": "y",
         "showticklabels": false
        },
        "yaxis7": {
         "anchor": "x7",
         "domain": [
          0,
          1
         ],
         "matches": "y",
         "showticklabels": false
        },
        "yaxis8": {
         "anchor": "x8",
         "domain": [
          0,
          1
         ],
         "matches": "y",
         "showticklabels": false
        },
        "yaxis9": {
         "anchor": "x9",
         "domain": [
          0,
          1
         ],
         "matches": "y",
         "showticklabels": false
        }
       }
      }
     },
     "metadata": {},
     "output_type": "display_data"
    }
   ],
   "source": [
    "\n",
    "df = df.sort_values(\"Year\")                     # Sort DataFrame chronologically by year\n",
    "\n",
    "fig = px.scatter(\n",
    "    df,\n",
    "    x=\"Exercise (min)\",                         # X-axis: duration of physical exercise in minutes\n",
    "    y=\"Mood Score\",                             # Y-axis: self-reported mood score (1–10 scale)\n",
    "    color=\"Type\",                               # Color points by day type (e.g., Workday, Weekend)\n",
    "    facet_col=\"Year\",                           # Create subplots for each year to show temporal variation\n",
    "    hover_data=[                                # Display detailed info when hovering over each data point\n",
    "        \"Date\",                                 # Show exact date of entry\n",
    "        \"Sleep Hours\",                          # Show sleep duration for context\n",
    "        \"Stress Level\",                         # Show stress level (0–10 scale)\n",
    "        \"Social Interactions\",                  # Show number of social interactions\n",
    "        \"Category\",                             # Show behavioral category (e.g., Routine, Recovery)\n",
    "        \"Notes\"                                 # Show user notes for qualitative insight\n",
    "    ],\n",
    "    title=\"Exercise vs Mood – Interactive View by Year and Type\"  # Chart title for clarity\n",
    ")\n",
    "\n",
    "fig.update_layout(\n",
    "    xaxis_title=\"Exercise (min)\",               # Label for X-axis\n",
    "    yaxis_title=\"Mood Score\",                   # Label for Y-axis\n",
    "    legend_title=\"Day Type\",                    # Label for legend\n",
    "    margin=dict(t=60, l=40, r=40, b=40)         # Adjust margins for better layout spacing\n",
    ")\n",
    "\n",
    "fig.show()                                      # Render the interactive chart in notebook or browser"
   ]
  },
  {
   "cell_type": "markdown",
   "id": "afac82a7",
   "metadata": {},
   "source": [
    "### 📌 **Observation**\n",
    "\n",
    "This interactive chart reveals how `exercise influences mood` across different years and day types.  \n",
    "Hover tooltips provide rich context, including `sleep`, `stress`, and `social interactions`, enabling deeper behavioral insight.  \n",
    "We observe tighter mood clustering on workdays, while holidays and sick days show greater emotional variability suggesting that structured routines `may stabilize mood responses to physical activity`."
   ]
  },
  {
   "cell_type": "markdown",
   "id": "b09c8a10",
   "metadata": {},
   "source": [
    "## **📈 Step 5: Conclusions & Business Recommendations**\n",
    "\n",
    "Based on the interactive visualizations and behavioral breakdowns, we can now extract actionable insights and propose strategic directions for wellness optimization.\n",
    "\n",
    "### 🎯 High-Mood Day Types\n",
    "- **Weekends** and **Holidays** consistently show higher mood scores, especially when paired with moderate exercise and sufficient sleep.\n",
    "- **Workdays** with structured routines and balanced activity also yield stable mood levels, particularly when stress is low.\n",
    "\n",
    "### 🧘‍♂️ Stress-Reducing Combinations\n",
    "- Days with **7+ hours of sleep**, **30+ minutes of exercise**, and **3+ social interactions** tend to correlate with lower stress levels.\n",
    "- **Journaling** and **positive notes** (when present) often coincide with improved mood and reduced stress, suggesting emotional processing plays a role.\n",
    "\n",
    "### 💡 App Feature Suggestions\n",
    "- **Smart journaling prompts** based on mood and stress trends\n",
    "- **Personalized nudges** for sleep hygiene, exercise, and social connection\n",
    "- **Mood-linked sleep tracking** to detect patterns and suggest bedtime adjustments\n",
    "- **Behavioral summaries** after each week to reinforce healthy habits\n",
    "\n",
    "These recommendations support a proactive, personalized approach to mental wellness and can guide future app development or coaching strategies.\n"
   ]
  }
 ],
 "metadata": {
  "kernelspec": {
   "display_name": "Python 3",
   "language": "python",
   "name": "python3"
  },
  "language_info": {
   "codemirror_mode": {
    "name": "ipython",
    "version": 3
   },
   "file_extension": ".py",
   "mimetype": "text/x-python",
   "name": "python",
   "nbconvert_exporter": "python",
   "pygments_lexer": "ipython3",
   "version": "3.13.5"
  }
 },
 "nbformat": 4,
 "nbformat_minor": 5
}
